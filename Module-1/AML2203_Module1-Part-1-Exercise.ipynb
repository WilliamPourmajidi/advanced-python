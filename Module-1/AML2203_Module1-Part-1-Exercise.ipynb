{
 "cells": [
  {
   "cell_type": "markdown",
   "id": "59f2a07c",
   "metadata": {},
   "source": [
    "# EDA Exercise: Working with JSON Data in Python\n",
    "In this exercise, you will load a JSON file containing employee data and perform exploratory data analysis (EDA).\n",
    "The goal is to apply your skills with `pandas` to analyze, describe, and understand a small dataset."
   ]
  },
  {
   "cell_type": "markdown",
   "id": "62ceda48",
   "metadata": {},
   "source": [
    "## Step 1: Load the JSON File"
   ]
  },
  {
   "cell_type": "code",
   "id": "0dc1f608",
   "metadata": {
    "ExecuteTime": {
     "end_time": "2025-05-06T16:24:20.202586Z",
     "start_time": "2025-05-06T16:24:18.413152Z"
    }
   },
   "source": [
    "import pandas as pd\n",
    "# Load the JSON file into a pandas DataFrame\n",
    "# Hint: Use pd.read_json with the correct path\n",
    "df = pd.read_json('data_samples/sample_employees.json')  # Update path if needed\n",
    "df.head()"
   ],
   "outputs": [
    {
     "data": {
      "text/plain": [
       "   id                 name  age        salary   department  years_at_company\n",
       "0   1       Dennis Vazquez   32  58893.885591        Sales                 8\n",
       "1   2  Mr. Wayne Rodriguez   24  62551.217478        Sales                 7\n",
       "2   3    Lindsey Rodriguez   37  66139.477833    Marketing                 5\n",
       "3   4        Mark Martinez   27  55798.641543  Engineering                 1\n",
       "4   5          Linda Brown   31  44693.758043           HR                 9"
      ],
      "text/html": [
       "<div>\n",
       "<style scoped>\n",
       "    .dataframe tbody tr th:only-of-type {\n",
       "        vertical-align: middle;\n",
       "    }\n",
       "\n",
       "    .dataframe tbody tr th {\n",
       "        vertical-align: top;\n",
       "    }\n",
       "\n",
       "    .dataframe thead th {\n",
       "        text-align: right;\n",
       "    }\n",
       "</style>\n",
       "<table border=\"1\" class=\"dataframe\">\n",
       "  <thead>\n",
       "    <tr style=\"text-align: right;\">\n",
       "      <th></th>\n",
       "      <th>id</th>\n",
       "      <th>name</th>\n",
       "      <th>age</th>\n",
       "      <th>salary</th>\n",
       "      <th>department</th>\n",
       "      <th>years_at_company</th>\n",
       "    </tr>\n",
       "  </thead>\n",
       "  <tbody>\n",
       "    <tr>\n",
       "      <th>0</th>\n",
       "      <td>1</td>\n",
       "      <td>Dennis Vazquez</td>\n",
       "      <td>32</td>\n",
       "      <td>58893.885591</td>\n",
       "      <td>Sales</td>\n",
       "      <td>8</td>\n",
       "    </tr>\n",
       "    <tr>\n",
       "      <th>1</th>\n",
       "      <td>2</td>\n",
       "      <td>Mr. Wayne Rodriguez</td>\n",
       "      <td>24</td>\n",
       "      <td>62551.217478</td>\n",
       "      <td>Sales</td>\n",
       "      <td>7</td>\n",
       "    </tr>\n",
       "    <tr>\n",
       "      <th>2</th>\n",
       "      <td>3</td>\n",
       "      <td>Lindsey Rodriguez</td>\n",
       "      <td>37</td>\n",
       "      <td>66139.477833</td>\n",
       "      <td>Marketing</td>\n",
       "      <td>5</td>\n",
       "    </tr>\n",
       "    <tr>\n",
       "      <th>3</th>\n",
       "      <td>4</td>\n",
       "      <td>Mark Martinez</td>\n",
       "      <td>27</td>\n",
       "      <td>55798.641543</td>\n",
       "      <td>Engineering</td>\n",
       "      <td>1</td>\n",
       "    </tr>\n",
       "    <tr>\n",
       "      <th>4</th>\n",
       "      <td>5</td>\n",
       "      <td>Linda Brown</td>\n",
       "      <td>31</td>\n",
       "      <td>44693.758043</td>\n",
       "      <td>HR</td>\n",
       "      <td>9</td>\n",
       "    </tr>\n",
       "  </tbody>\n",
       "</table>\n",
       "</div>"
      ]
     },
     "execution_count": 3,
     "metadata": {},
     "output_type": "execute_result"
    }
   ],
   "execution_count": 3
  },
  {
   "cell_type": "markdown",
   "id": "3ee99985",
   "metadata": {},
   "source": [
    "## Step 2: Understand the Structure"
   ]
  },
  {
   "cell_type": "code",
   "id": "22f7c60a",
   "metadata": {
    "ExecuteTime": {
     "end_time": "2025-05-06T16:24:25.974811Z",
     "start_time": "2025-05-06T16:24:25.965316Z"
    }
   },
   "source": [
    "# Print the shape and column names of the dataset\n",
    "print(df.shape)\n",
    "print(df.columns.tolist())"
   ],
   "outputs": [
    {
     "name": "stdout",
     "output_type": "stream",
     "text": [
      "(30, 6)\n",
      "['id', 'name', 'age', 'salary', 'department', 'years_at_company']\n"
     ]
    }
   ],
   "execution_count": 4
  },
  {
   "cell_type": "markdown",
   "id": "bbb7b61b",
   "metadata": {},
   "source": [
    "## Step 3: Check for Missing Values"
   ]
  },
  {
   "cell_type": "code",
   "id": "50519cea",
   "metadata": {
    "ExecuteTime": {
     "end_time": "2025-05-06T16:24:28.527760Z",
     "start_time": "2025-05-06T16:24:28.509806Z"
    }
   },
   "source": [
    "# Use pandas functions to check for missing values in each column\n",
    "df.isnull().sum()"
   ],
   "outputs": [
    {
     "data": {
      "text/plain": [
       "id                  0\n",
       "name                0\n",
       "age                 0\n",
       "salary              0\n",
       "department          0\n",
       "years_at_company    0\n",
       "dtype: int64"
      ]
     },
     "execution_count": 5,
     "metadata": {},
     "output_type": "execute_result"
    }
   ],
   "execution_count": 5
  },
  {
   "cell_type": "markdown",
   "id": "4a6969af",
   "metadata": {},
   "source": [
    "## Step 4: Descriptive Statistics"
   ]
  },
  {
   "cell_type": "code",
   "id": "af9e3c1e",
   "metadata": {
    "ExecuteTime": {
     "end_time": "2025-05-06T16:24:31.640377Z",
     "start_time": "2025-05-06T16:24:31.574743Z"
    }
   },
   "source": [
    "# Display summary statistics for all numerical columns\n",
    "df.describe()"
   ],
   "outputs": [
    {
     "data": {
      "text/plain": [
       "              id        age        salary  years_at_company\n",
       "count  30.000000  30.000000     30.000000         30.000000\n",
       "mean   15.500000  30.000000  59106.279019          5.966667\n",
       "std     8.803408   4.927054   8860.124477          2.266447\n",
       "min     1.000000  19.000000  44693.758043          1.000000\n",
       "25%     8.250000  27.000000  50772.578478          5.000000\n",
       "50%    15.500000  31.000000  60205.085150          7.000000\n",
       "75%    22.750000  32.000000  65960.143194          7.750000\n",
       "max    30.000000  43.000000  81248.080730          9.000000"
      ],
      "text/html": [
       "<div>\n",
       "<style scoped>\n",
       "    .dataframe tbody tr th:only-of-type {\n",
       "        vertical-align: middle;\n",
       "    }\n",
       "\n",
       "    .dataframe tbody tr th {\n",
       "        vertical-align: top;\n",
       "    }\n",
       "\n",
       "    .dataframe thead th {\n",
       "        text-align: right;\n",
       "    }\n",
       "</style>\n",
       "<table border=\"1\" class=\"dataframe\">\n",
       "  <thead>\n",
       "    <tr style=\"text-align: right;\">\n",
       "      <th></th>\n",
       "      <th>id</th>\n",
       "      <th>age</th>\n",
       "      <th>salary</th>\n",
       "      <th>years_at_company</th>\n",
       "    </tr>\n",
       "  </thead>\n",
       "  <tbody>\n",
       "    <tr>\n",
       "      <th>count</th>\n",
       "      <td>30.000000</td>\n",
       "      <td>30.000000</td>\n",
       "      <td>30.000000</td>\n",
       "      <td>30.000000</td>\n",
       "    </tr>\n",
       "    <tr>\n",
       "      <th>mean</th>\n",
       "      <td>15.500000</td>\n",
       "      <td>30.000000</td>\n",
       "      <td>59106.279019</td>\n",
       "      <td>5.966667</td>\n",
       "    </tr>\n",
       "    <tr>\n",
       "      <th>std</th>\n",
       "      <td>8.803408</td>\n",
       "      <td>4.927054</td>\n",
       "      <td>8860.124477</td>\n",
       "      <td>2.266447</td>\n",
       "    </tr>\n",
       "    <tr>\n",
       "      <th>min</th>\n",
       "      <td>1.000000</td>\n",
       "      <td>19.000000</td>\n",
       "      <td>44693.758043</td>\n",
       "      <td>1.000000</td>\n",
       "    </tr>\n",
       "    <tr>\n",
       "      <th>25%</th>\n",
       "      <td>8.250000</td>\n",
       "      <td>27.000000</td>\n",
       "      <td>50772.578478</td>\n",
       "      <td>5.000000</td>\n",
       "    </tr>\n",
       "    <tr>\n",
       "      <th>50%</th>\n",
       "      <td>15.500000</td>\n",
       "      <td>31.000000</td>\n",
       "      <td>60205.085150</td>\n",
       "      <td>7.000000</td>\n",
       "    </tr>\n",
       "    <tr>\n",
       "      <th>75%</th>\n",
       "      <td>22.750000</td>\n",
       "      <td>32.000000</td>\n",
       "      <td>65960.143194</td>\n",
       "      <td>7.750000</td>\n",
       "    </tr>\n",
       "    <tr>\n",
       "      <th>max</th>\n",
       "      <td>30.000000</td>\n",
       "      <td>43.000000</td>\n",
       "      <td>81248.080730</td>\n",
       "      <td>9.000000</td>\n",
       "    </tr>\n",
       "  </tbody>\n",
       "</table>\n",
       "</div>"
      ]
     },
     "execution_count": 6,
     "metadata": {},
     "output_type": "execute_result"
    }
   ],
   "execution_count": 6
  },
  {
   "cell_type": "markdown",
   "id": "38fe21a1",
   "metadata": {},
   "source": [
    "## Step 5: Grouping and Aggregation"
   ]
  },
  {
   "cell_type": "code",
   "id": "e88df72f",
   "metadata": {
    "ExecuteTime": {
     "end_time": "2025-05-06T16:26:25.689075Z",
     "start_time": "2025-05-06T16:26:25.672400Z"
    }
   },
   "source": [
    "# Find the average salary per department\n",
    "df.groupby('department')['salary'].mean()"
   ],
   "outputs": [
    {
     "data": {
      "text/plain": [
       "department\n",
       "Engineering    59374.221553\n",
       "HR             55978.507288\n",
       "Marketing      63975.985549\n",
       "Sales          57726.159139\n",
       "Name: salary, dtype: float64"
      ]
     },
     "execution_count": 10,
     "metadata": {},
     "output_type": "execute_result"
    }
   ],
   "execution_count": 10
  },
  {
   "cell_type": "markdown",
   "id": "5a1d8b2a",
   "metadata": {},
   "source": [
    "## Step 6: Filtering Data"
   ]
  },
  {
   "cell_type": "code",
   "id": "b909673a",
   "metadata": {
    "ExecuteTime": {
     "end_time": "2025-05-06T16:26:23.144086Z",
     "start_time": "2025-05-06T16:26:23.118426Z"
    }
   },
   "source": [
    "#Filter the dataset to only include employees with more than 5 years at the company\n",
    "df[df['years_at_company'] > 5]"
   ],
   "outputs": [
    {
     "data": {
      "text/plain": [
       "    id                 name  age        salary   department  years_at_company\n",
       "0    1       Dennis Vazquez   32  58893.885591        Sales                 8\n",
       "1    2  Mr. Wayne Rodriguez   24  62551.217478        Sales                 7\n",
       "4    5          Linda Brown   31  44693.758043           HR                 9\n",
       "7    8       Brooke Vasquez   32  66659.694857  Engineering                 7\n",
       "9   10      Nathan Hamilton   26  53772.943943           HR                 7\n",
       "11  12          Brian Nolan   34  50233.250800    Marketing                 6\n",
       "13  14       Francisco Kirk   31  67054.088312           HR                 8\n",
       "14  15     Joanna Dougherty   33  81248.080730    Marketing                 8\n",
       "16  17         Bryan Walker   32  60687.387773           HR                 9\n",
       "17  18           Kerri Hill   25  55893.396757  Engineering                 7\n",
       "18  19        Larry Leonard   20  49065.742889           HR                 8\n",
       "20  21     Joshua Hernandez   31  64776.357169           HR                 7\n",
       "21  22     Robert Hernandez   29  69318.149164  Engineering                 7\n",
       "22  23         Mark Simpson   24  50430.347007        Sales                 8\n",
       "24  25           Ryan Clark   25  66273.665501    Marketing                 7\n",
       "25  26          Kelli Crane   29  52275.538625        Sales                 7\n",
       "28  29       Kimberly Jones   30  64864.717296        Sales                 6\n",
       "29  30   Charles Harrington   31  67173.043070    Marketing                 9"
      ],
      "text/html": [
       "<div>\n",
       "<style scoped>\n",
       "    .dataframe tbody tr th:only-of-type {\n",
       "        vertical-align: middle;\n",
       "    }\n",
       "\n",
       "    .dataframe tbody tr th {\n",
       "        vertical-align: top;\n",
       "    }\n",
       "\n",
       "    .dataframe thead th {\n",
       "        text-align: right;\n",
       "    }\n",
       "</style>\n",
       "<table border=\"1\" class=\"dataframe\">\n",
       "  <thead>\n",
       "    <tr style=\"text-align: right;\">\n",
       "      <th></th>\n",
       "      <th>id</th>\n",
       "      <th>name</th>\n",
       "      <th>age</th>\n",
       "      <th>salary</th>\n",
       "      <th>department</th>\n",
       "      <th>years_at_company</th>\n",
       "    </tr>\n",
       "  </thead>\n",
       "  <tbody>\n",
       "    <tr>\n",
       "      <th>0</th>\n",
       "      <td>1</td>\n",
       "      <td>Dennis Vazquez</td>\n",
       "      <td>32</td>\n",
       "      <td>58893.885591</td>\n",
       "      <td>Sales</td>\n",
       "      <td>8</td>\n",
       "    </tr>\n",
       "    <tr>\n",
       "      <th>1</th>\n",
       "      <td>2</td>\n",
       "      <td>Mr. Wayne Rodriguez</td>\n",
       "      <td>24</td>\n",
       "      <td>62551.217478</td>\n",
       "      <td>Sales</td>\n",
       "      <td>7</td>\n",
       "    </tr>\n",
       "    <tr>\n",
       "      <th>4</th>\n",
       "      <td>5</td>\n",
       "      <td>Linda Brown</td>\n",
       "      <td>31</td>\n",
       "      <td>44693.758043</td>\n",
       "      <td>HR</td>\n",
       "      <td>9</td>\n",
       "    </tr>\n",
       "    <tr>\n",
       "      <th>7</th>\n",
       "      <td>8</td>\n",
       "      <td>Brooke Vasquez</td>\n",
       "      <td>32</td>\n",
       "      <td>66659.694857</td>\n",
       "      <td>Engineering</td>\n",
       "      <td>7</td>\n",
       "    </tr>\n",
       "    <tr>\n",
       "      <th>9</th>\n",
       "      <td>10</td>\n",
       "      <td>Nathan Hamilton</td>\n",
       "      <td>26</td>\n",
       "      <td>53772.943943</td>\n",
       "      <td>HR</td>\n",
       "      <td>7</td>\n",
       "    </tr>\n",
       "    <tr>\n",
       "      <th>11</th>\n",
       "      <td>12</td>\n",
       "      <td>Brian Nolan</td>\n",
       "      <td>34</td>\n",
       "      <td>50233.250800</td>\n",
       "      <td>Marketing</td>\n",
       "      <td>6</td>\n",
       "    </tr>\n",
       "    <tr>\n",
       "      <th>13</th>\n",
       "      <td>14</td>\n",
       "      <td>Francisco Kirk</td>\n",
       "      <td>31</td>\n",
       "      <td>67054.088312</td>\n",
       "      <td>HR</td>\n",
       "      <td>8</td>\n",
       "    </tr>\n",
       "    <tr>\n",
       "      <th>14</th>\n",
       "      <td>15</td>\n",
       "      <td>Joanna Dougherty</td>\n",
       "      <td>33</td>\n",
       "      <td>81248.080730</td>\n",
       "      <td>Marketing</td>\n",
       "      <td>8</td>\n",
       "    </tr>\n",
       "    <tr>\n",
       "      <th>16</th>\n",
       "      <td>17</td>\n",
       "      <td>Bryan Walker</td>\n",
       "      <td>32</td>\n",
       "      <td>60687.387773</td>\n",
       "      <td>HR</td>\n",
       "      <td>9</td>\n",
       "    </tr>\n",
       "    <tr>\n",
       "      <th>17</th>\n",
       "      <td>18</td>\n",
       "      <td>Kerri Hill</td>\n",
       "      <td>25</td>\n",
       "      <td>55893.396757</td>\n",
       "      <td>Engineering</td>\n",
       "      <td>7</td>\n",
       "    </tr>\n",
       "    <tr>\n",
       "      <th>18</th>\n",
       "      <td>19</td>\n",
       "      <td>Larry Leonard</td>\n",
       "      <td>20</td>\n",
       "      <td>49065.742889</td>\n",
       "      <td>HR</td>\n",
       "      <td>8</td>\n",
       "    </tr>\n",
       "    <tr>\n",
       "      <th>20</th>\n",
       "      <td>21</td>\n",
       "      <td>Joshua Hernandez</td>\n",
       "      <td>31</td>\n",
       "      <td>64776.357169</td>\n",
       "      <td>HR</td>\n",
       "      <td>7</td>\n",
       "    </tr>\n",
       "    <tr>\n",
       "      <th>21</th>\n",
       "      <td>22</td>\n",
       "      <td>Robert Hernandez</td>\n",
       "      <td>29</td>\n",
       "      <td>69318.149164</td>\n",
       "      <td>Engineering</td>\n",
       "      <td>7</td>\n",
       "    </tr>\n",
       "    <tr>\n",
       "      <th>22</th>\n",
       "      <td>23</td>\n",
       "      <td>Mark Simpson</td>\n",
       "      <td>24</td>\n",
       "      <td>50430.347007</td>\n",
       "      <td>Sales</td>\n",
       "      <td>8</td>\n",
       "    </tr>\n",
       "    <tr>\n",
       "      <th>24</th>\n",
       "      <td>25</td>\n",
       "      <td>Ryan Clark</td>\n",
       "      <td>25</td>\n",
       "      <td>66273.665501</td>\n",
       "      <td>Marketing</td>\n",
       "      <td>7</td>\n",
       "    </tr>\n",
       "    <tr>\n",
       "      <th>25</th>\n",
       "      <td>26</td>\n",
       "      <td>Kelli Crane</td>\n",
       "      <td>29</td>\n",
       "      <td>52275.538625</td>\n",
       "      <td>Sales</td>\n",
       "      <td>7</td>\n",
       "    </tr>\n",
       "    <tr>\n",
       "      <th>28</th>\n",
       "      <td>29</td>\n",
       "      <td>Kimberly Jones</td>\n",
       "      <td>30</td>\n",
       "      <td>64864.717296</td>\n",
       "      <td>Sales</td>\n",
       "      <td>6</td>\n",
       "    </tr>\n",
       "    <tr>\n",
       "      <th>29</th>\n",
       "      <td>30</td>\n",
       "      <td>Charles Harrington</td>\n",
       "      <td>31</td>\n",
       "      <td>67173.043070</td>\n",
       "      <td>Marketing</td>\n",
       "      <td>9</td>\n",
       "    </tr>\n",
       "  </tbody>\n",
       "</table>\n",
       "</div>"
      ]
     },
     "execution_count": 9,
     "metadata": {},
     "output_type": "execute_result"
    }
   ],
   "execution_count": 9
  }
 ],
 "metadata": {
  "kernelspec": {
   "name": "python3",
   "language": "python",
   "display_name": "Python 3 (ipykernel)"
  }
 },
 "nbformat": 4,
 "nbformat_minor": 5
}
