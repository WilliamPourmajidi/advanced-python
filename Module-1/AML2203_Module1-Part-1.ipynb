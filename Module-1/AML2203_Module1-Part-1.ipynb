{
 "cells": [
  {
   "cell_type": "markdown",
   "id": "1b87ca02",
   "metadata": {},
   "source": [
    "# Working with CSV and JSON Files in Python\n",
    "\n",
    "This notebook demonstrates how to load, inspect, and manipulate CSV and JSON files using `pandas`. It includes examples with comma-separated and semicolon-separated files, and explains key parameters."
   ]
  },
  {
   "cell_type": "markdown",
   "id": "075129eb",
   "metadata": {},
   "source": [
    "## Loading CSV (Comma-Separated Values)"
   ]
  },
  {
   "cell_type": "code",
   "id": "4e01a435",
   "metadata": {
    "ExecuteTime": {
     "end_time": "2025-05-06T14:48:07.442257Z",
     "start_time": "2025-05-06T14:48:07.411102Z"
    }
   },
   "source": [
    "    import pandas as pd\n",
    "# Load comma-separated CSV\n",
    "csv_df = pd.read_csv(\"data_samples/example.csv\")\n",
    "# print(type(csv_df))\n",
    "print(\"CSV Data (comma-separated):\")\n",
    "print(csv_df)"
   ],
   "outputs": [
    {
     "name": "stdout",
     "output_type": "stream",
     "text": [
      "CSV Data (comma-separated):\n",
      "      Name  Age         City\n",
      "0    Alice   25     New York\n",
      "1    David   62        Paris\n",
      "2      Bob   30  Los Angeles\n",
      "3  Charlie   35      Chicago\n",
      "4  William   43      Toronto\n"
     ]
    }
   ],
   "execution_count": 11
  },
  {
   "cell_type": "markdown",
   "id": "f39c3ab0",
   "metadata": {},
   "source": [
    "## Loading SSV (Semicolon-Separated Values)"
   ]
  },
  {
   "cell_type": "code",
   "id": "fb51e761",
   "metadata": {
    "ExecuteTime": {
     "end_time": "2025-05-06T14:48:24.846446Z",
     "start_time": "2025-05-06T14:48:24.830994Z"
    }
   },
   "source": [
    "# Load semicolon-separated file\n",
    "ssv_df = pd.read_csv(\"data_samples/example.ssv\", sep=';')\n",
    "print(\"CSV Data (semicolon-separated):\")\n",
    "print(ssv_df)"
   ],
   "outputs": [
    {
     "name": "stdout",
     "output_type": "stream",
     "text": [
      "CSV Data (semicolon-separated):\n",
      "      Name  Age         City\n",
      "0    Alice   25     New York\n",
      "1      Bob   30  Los Angeles\n",
      "2  Charlie   35      Chicago\n"
     ]
    }
   ],
   "execution_count": 12
  },
  {
   "cell_type": "markdown",
   "id": "4324d1bb",
   "metadata": {},
   "source": [
    "## Key Parameters in `read_csv`\n",
    "- `sep`: Defines the separator (default is `,`)\n",
    "- `header`: Row number to use as column names (0-indexed)\n",
    "- `index_col`: Column to use as row labels\n",
    "- `names`: List of column names to use if no header"
   ]
  },
  {
   "metadata": {
    "ExecuteTime": {
     "end_time": "2025-05-06T14:50:35.507740Z",
     "start_time": "2025-05-06T14:50:35.478795Z"
    }
   },
   "cell_type": "code",
   "source": [
    "# Demonstrate use of 'header' and 'names'\n",
    "custom_df = pd.read_csv(\"data_samples/example.csv\", header=0, names=[\"FullName\", \"YearsOld\", \"Location\"])\n",
    "print(\"CSV with custom column names:\")\n",
    "print(custom_df)"
   ],
   "id": "2be0cef364754c7a",
   "outputs": [
    {
     "name": "stdout",
     "output_type": "stream",
     "text": [
      "CSV with custom column names:\n",
      "  FullName  YearsOld     Location\n",
      "0    Alice        25     New York\n",
      "1    David        62        Paris\n",
      "2      Bob        30  Los Angeles\n",
      "3  Charlie        35      Chicago\n",
      "4  William        43      Toronto\n"
     ]
    }
   ],
   "execution_count": 20
  },
  {
   "metadata": {
    "ExecuteTime": {
     "end_time": "2025-05-06T14:50:55.190854Z",
     "start_time": "2025-05-06T14:50:55.149266Z"
    }
   },
   "cell_type": "code",
   "source": [
    "# Demonstrate index_col\n",
    "indexed_df = pd.read_csv(\"data_samples/example.csv\", index_col=\"Name\")\n",
    "print(\"CSV with 'Name' as index:\")\n",
    "print(indexed_df)"
   ],
   "id": "3f69c05913949e03",
   "outputs": [
    {
     "name": "stdout",
     "output_type": "stream",
     "text": [
      "CSV with 'Name' as index:\n",
      "         Age         City\n",
      "Name                     \n",
      "Alice     25     New York\n",
      "David     62        Paris\n",
      "Bob       30  Los Angeles\n",
      "Charlie   35      Chicago\n",
      "William   43      Toronto\n"
     ]
    }
   ],
   "execution_count": 21
  },
  {
   "cell_type": "markdown",
   "id": "20c4d84b",
   "metadata": {},
   "source": [
    "## Loading JSON File"
   ]
  },
  {
   "cell_type": "code",
   "id": "1e5f83b5",
   "metadata": {
    "ExecuteTime": {
     "end_time": "2025-05-06T15:04:40.387492Z",
     "start_time": "2025-05-06T15:04:40.328516Z"
    }
   },
   "source": [
    "# Load JSON file\n",
    "json_df = pd.read_json(\"data_samples/example.json\")\n",
    "print(\"JSON Data:\")\n",
    "print(json_df)\n",
    "\n",
    "json_df.head()  # Show first five rows\n",
    "json_df.tail()  # Show last five rows\n",
    "json_df.describe() # statistics of your data frame (only on numerical value)\n",
    "json_df['Age']\n"
   ],
   "outputs": [
    {
     "name": "stdout",
     "output_type": "stream",
     "text": [
      "JSON Data:\n",
      "      Name  Age         City\n",
      "0    Alice   25     New York\n",
      "1      Bob   30  Los Angeles\n",
      "2  Charlie   35      Chicago\n"
     ]
    },
    {
     "data": {
      "text/plain": [
       "0    25\n",
       "1    30\n",
       "2    35\n",
       "Name: Age, dtype: int64"
      ]
     },
     "execution_count": 26,
     "metadata": {},
     "output_type": "execute_result"
    }
   ],
   "execution_count": 26
  }
 ],
 "metadata": {
  "kernelspec": {
   "name": "python3",
   "language": "python",
   "display_name": "Python 3 (ipykernel)"
  }
 },
 "nbformat": 4,
 "nbformat_minor": 5
}
