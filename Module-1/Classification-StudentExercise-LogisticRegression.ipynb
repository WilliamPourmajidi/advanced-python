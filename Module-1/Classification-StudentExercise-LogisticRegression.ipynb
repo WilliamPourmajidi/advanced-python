{
 "cells": [
  {
   "cell_type": "markdown",
   "id": "e190e7f1",
   "metadata": {},
   "source": [
    "# In-Class Activity: Binary Classification with Logistic Regression\n",
    "In this activity, you will build a logistic regression model to classify whether a user will purchase a product based on their age and estimated salary.\n",
    "You will go through data generation, preprocessing, training, and evaluation in a hands-on format."
   ]
  },
  {
   "cell_type": "markdown",
   "id": "ed798f01",
   "metadata": {},
   "source": [
    "## Step 1: Generate Synthetic Data\n",
    "Generate a dataset of 500 samples with the following columns:\n",
    "- `Age`: between 18 and 60\n",
    "- `EstimatedSalary`: between `$20,000  and  $150,000`\n",
    "- `Purchased`: 1 if purchased, 0 otherwise (based on some logic + noise)"
   ]
  },
  {
   "cell_type": "code",
   "execution_count": null,
   "id": "f58d96a9",
   "metadata": {},
   "outputs": [],
   "source": [
    "# Your code here"
   ]
  },
  {
   "cell_type": "markdown",
   "id": "24b894ab",
   "metadata": {},
   "source": [
    "## Step 2: Exploratory Data Analysis\n",
    "- Print dataset shape and summary statistics\n",
    "- Show the first few rows\n",
    "- Plot `Age` vs `EstimatedSalary` colored by `Purchased`"
   ]
  },
  {
   "cell_type": "code",
   "execution_count": null,
   "id": "62a73203",
   "metadata": {},
   "outputs": [],
   "source": [
    "# Your code here"
   ]
  },
  {
   "cell_type": "markdown",
   "id": "42b13dfa",
   "metadata": {},
   "source": [
    "## Step 3: Prepare the Data\n",
    "Separate features (`X`) and target (`y`). Split the dataset into training and testing sets using an 80/20 split. Use `random_state=42`."
   ]
  },
  {
   "cell_type": "code",
   "execution_count": null,
   "id": "e5835492",
   "metadata": {},
   "outputs": [],
   "source": [
    "# Your code here"
   ]
  },
  {
   "cell_type": "markdown",
   "id": "d7f726b2",
   "metadata": {},
   "source": [
    "## Step 4: Train Logistic Regression Model\n",
    "Fit a logistic regression model using the training data."
   ]
  },
  {
   "cell_type": "code",
   "execution_count": null,
   "id": "96b1dbb5",
   "metadata": {},
   "outputs": [],
   "source": [
    "# Your code here"
   ]
  },
  {
   "cell_type": "markdown",
   "id": "72999baa",
   "metadata": {},
   "source": [
    "## Step 5: Make Predictions\n",
    "Use the model to predict the test set labels. Append `Actual` and `Predicted` labels to a copy of the test feature set."
   ]
  },
  {
   "cell_type": "code",
   "execution_count": null,
   "id": "acf1dcd8",
   "metadata": {},
   "outputs": [],
   "source": [
    "# Your code here"
   ]
  },
  {
   "cell_type": "markdown",
   "id": "b9329584",
   "metadata": {},
   "source": [
    "## Step 6: Evaluate the Model\n",
    "- Print accuracy\n",
    "- Print confusion matrix and classification report\n",
    "- Display confusion matrix as a heatmap with appropriate labels"
   ]
  },
  {
   "cell_type": "code",
   "execution_count": null,
   "id": "d72cd932",
   "metadata": {},
   "outputs": [],
   "source": [
    "# Your code here"
   ]
  },
  {
   "cell_type": "markdown",
   "id": "aef5991c",
   "metadata": {},
   "source": [
    "## Step 7 (Optional): Visualize Decision Boundary\n",
    "Try visualizing the decision boundary over the feature space if time allows."
   ]
  },
  {
   "cell_type": "code",
   "execution_count": null,
   "id": "a29cddcf",
   "metadata": {},
   "outputs": [],
   "source": [
    "# Your code here (optional)"
   ]
  }
 ],
 "metadata": {},
 "nbformat": 4,
 "nbformat_minor": 5
}
