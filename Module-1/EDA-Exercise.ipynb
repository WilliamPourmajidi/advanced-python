{
 "cells": [
  {
   "cell_type": "markdown",
   "id": "59f2a07c",
   "metadata": {},
   "source": [
    "# EDA Exercise: Working with JSON Data in Python\n",
    "In this exercise, you will load a JSON file containing employee data and perform exploratory data analysis (EDA).\n",
    "The goal is to apply your skills with `pandas` to analyze, describe, and understand a small dataset."
   ]
  },
  {
   "cell_type": "markdown",
   "id": "62ceda48",
   "metadata": {},
   "source": [
    "## Step 1: Load the JSON File"
   ]
  },
  {
   "cell_type": "code",
   "id": "0dc1f608",
   "metadata": {
    "ExecuteTime": {
     "end_time": "2025-05-13T13:49:54.281271Z",
     "start_time": "2025-05-13T13:49:54.000669Z"
    }
   },
   "source": [
    "import pandas as pd\n",
    "\n",
    "# Load the JSON file into a pandas DataFrame\n",
    "# Hint: Use pd.read_json with the correct path\n",
    "df = pd.read_json('data_samples/sample_employees.json')  # Update path if needed\n",
    "df.head()"
   ],
   "outputs": [
    {
     "data": {
      "text/plain": [
       "   id                 name  age        salary   department  years_at_company\n",
       "0   1                        32  58893.885591        Sales                 8\n",
       "1   2  Mr. Wayne Rodriguez   24  62551.217478        Sales                 7\n",
       "2   3    Lindsey Rodriguez   37  66139.477833    Marketing                 5\n",
       "3   4        Mark Martinez   27  55798.641543  Engineering                 1\n",
       "4   5          Linda Brown   31  44693.758043           HR                 9"
      ],
      "text/html": [
       "<div>\n",
       "<style scoped>\n",
       "    .dataframe tbody tr th:only-of-type {\n",
       "        vertical-align: middle;\n",
       "    }\n",
       "\n",
       "    .dataframe tbody tr th {\n",
       "        vertical-align: top;\n",
       "    }\n",
       "\n",
       "    .dataframe thead th {\n",
       "        text-align: right;\n",
       "    }\n",
       "</style>\n",
       "<table border=\"1\" class=\"dataframe\">\n",
       "  <thead>\n",
       "    <tr style=\"text-align: right;\">\n",
       "      <th></th>\n",
       "      <th>id</th>\n",
       "      <th>name</th>\n",
       "      <th>age</th>\n",
       "      <th>salary</th>\n",
       "      <th>department</th>\n",
       "      <th>years_at_company</th>\n",
       "    </tr>\n",
       "  </thead>\n",
       "  <tbody>\n",
       "    <tr>\n",
       "      <th>0</th>\n",
       "      <td>1</td>\n",
       "      <td></td>\n",
       "      <td>32</td>\n",
       "      <td>58893.885591</td>\n",
       "      <td>Sales</td>\n",
       "      <td>8</td>\n",
       "    </tr>\n",
       "    <tr>\n",
       "      <th>1</th>\n",
       "      <td>2</td>\n",
       "      <td>Mr. Wayne Rodriguez</td>\n",
       "      <td>24</td>\n",
       "      <td>62551.217478</td>\n",
       "      <td>Sales</td>\n",
       "      <td>7</td>\n",
       "    </tr>\n",
       "    <tr>\n",
       "      <th>2</th>\n",
       "      <td>3</td>\n",
       "      <td>Lindsey Rodriguez</td>\n",
       "      <td>37</td>\n",
       "      <td>66139.477833</td>\n",
       "      <td>Marketing</td>\n",
       "      <td>5</td>\n",
       "    </tr>\n",
       "    <tr>\n",
       "      <th>3</th>\n",
       "      <td>4</td>\n",
       "      <td>Mark Martinez</td>\n",
       "      <td>27</td>\n",
       "      <td>55798.641543</td>\n",
       "      <td>Engineering</td>\n",
       "      <td>1</td>\n",
       "    </tr>\n",
       "    <tr>\n",
       "      <th>4</th>\n",
       "      <td>5</td>\n",
       "      <td>Linda Brown</td>\n",
       "      <td>31</td>\n",
       "      <td>44693.758043</td>\n",
       "      <td>HR</td>\n",
       "      <td>9</td>\n",
       "    </tr>\n",
       "  </tbody>\n",
       "</table>\n",
       "</div>"
      ]
     },
     "execution_count": 7,
     "metadata": {},
     "output_type": "execute_result"
    }
   ],
   "execution_count": 7
  },
  {
   "cell_type": "markdown",
   "id": "3ee99985",
   "metadata": {},
   "source": [
    "## Step 2: Understand the Structure"
   ]
  },
  {
   "cell_type": "code",
   "id": "22f7c60a",
   "metadata": {
    "ExecuteTime": {
     "end_time": "2025-05-13T13:44:14.702819Z",
     "start_time": "2025-05-13T13:44:14.686565Z"
    }
   },
   "source": [
    "# Print the shape and column names of the dataset\n",
    "print(df.shape)\n",
    "print(df.columns.tolist())"
   ],
   "outputs": [
    {
     "name": "stdout",
     "output_type": "stream",
     "text": [
      "(30, 6)\n",
      "['id', 'name', 'age', 'salary', 'department', 'years_at_company']\n"
     ]
    }
   ],
   "execution_count": 2
  },
  {
   "cell_type": "markdown",
   "id": "bbb7b61b",
   "metadata": {},
   "source": [
    "## Step 3: Check for Missing Values"
   ]
  },
  {
   "cell_type": "code",
   "id": "50519cea",
   "metadata": {
    "ExecuteTime": {
     "end_time": "2025-05-13T13:47:05.698718Z",
     "start_time": "2025-05-13T13:47:05.687112Z"
    }
   },
   "source": [
    "# Use pandas functions to check for missing values in each column\n",
    "df.isnull().sum()"
   ],
   "outputs": [
    {
     "data": {
      "text/plain": [
       "id                  0\n",
       "name                0\n",
       "age                 0\n",
       "salary              0\n",
       "department          0\n",
       "years_at_company    0\n",
       "dtype: int64"
      ]
     },
     "execution_count": 5,
     "metadata": {},
     "output_type": "execute_result"
    }
   ],
   "execution_count": 5
  },
  {
   "cell_type": "markdown",
   "id": "4a6969af",
   "metadata": {},
   "source": [
    "## Step 4: Descriptive Statistics"
   ]
  },
  {
   "cell_type": "code",
   "id": "af9e3c1e",
   "metadata": {
    "ExecuteTime": {
     "end_time": "2025-05-13T14:28:12.574852Z",
     "start_time": "2025-05-13T14:28:12.470667Z"
    }
   },
   "source": [
    "# Display summary statistics for all numerical columns\n",
    "df.describe()\n",
    "print(df.dtypes)"
   ],
   "outputs": [
    {
     "name": "stdout",
     "output_type": "stream",
     "text": [
      "id                    int64\n",
      "name                 object\n",
      "age                   int64\n",
      "salary              float64\n",
      "department           object\n",
      "years_at_company      int64\n",
      "dtype: object\n"
     ]
    }
   ],
   "execution_count": 17
  },
  {
   "cell_type": "markdown",
   "id": "38fe21a1",
   "metadata": {},
   "source": [
    "## Step 5: Grouping and Aggregation"
   ]
  },
  {
   "cell_type": "code",
   "id": "e88df72f",
   "metadata": {
    "ExecuteTime": {
     "end_time": "2025-05-06T16:26:25.689075Z",
     "start_time": "2025-05-06T16:26:25.672400Z"
    }
   },
   "source": [
    "# Find the average salary per department\n",
    "df.groupby('department')['salary'].mean()"
   ],
   "outputs": [
    {
     "data": {
      "text/plain": [
       "department\n",
       "Engineering    59374.221553\n",
       "HR             55978.507288\n",
       "Marketing      63975.985549\n",
       "Sales          57726.159139\n",
       "Name: salary, dtype: float64"
      ]
     },
     "execution_count": 10,
     "metadata": {},
     "output_type": "execute_result"
    }
   ],
   "execution_count": 10
  },
  {
   "cell_type": "markdown",
   "id": "5a1d8b2a",
   "metadata": {},
   "source": [
    "## Step 6: Filtering Data"
   ]
  },
  {
   "cell_type": "code",
   "id": "b909673a",
   "metadata": {
    "ExecuteTime": {
     "end_time": "2025-05-13T13:52:40.821666Z",
     "start_time": "2025-05-13T13:52:40.781282Z"
    }
   },
   "source": [
    "#Filter the dataset to only include employees with more than 5 years at the company\n",
    "df[df['years_at_company'] >= 9]"
   ],
   "outputs": [
    {
     "data": {
      "text/plain": [
       "    id                name  age        salary department  years_at_company\n",
       "4    5         Linda Brown   31  44693.758043         HR                 9\n",
       "16  17        Bryan Walker   32  60687.387773         HR                 9\n",
       "29  30  Charles Harrington   31  67173.043070  Marketing                 9"
      ],
      "text/html": [
       "<div>\n",
       "<style scoped>\n",
       "    .dataframe tbody tr th:only-of-type {\n",
       "        vertical-align: middle;\n",
       "    }\n",
       "\n",
       "    .dataframe tbody tr th {\n",
       "        vertical-align: top;\n",
       "    }\n",
       "\n",
       "    .dataframe thead th {\n",
       "        text-align: right;\n",
       "    }\n",
       "</style>\n",
       "<table border=\"1\" class=\"dataframe\">\n",
       "  <thead>\n",
       "    <tr style=\"text-align: right;\">\n",
       "      <th></th>\n",
       "      <th>id</th>\n",
       "      <th>name</th>\n",
       "      <th>age</th>\n",
       "      <th>salary</th>\n",
       "      <th>department</th>\n",
       "      <th>years_at_company</th>\n",
       "    </tr>\n",
       "  </thead>\n",
       "  <tbody>\n",
       "    <tr>\n",
       "      <th>4</th>\n",
       "      <td>5</td>\n",
       "      <td>Linda Brown</td>\n",
       "      <td>31</td>\n",
       "      <td>44693.758043</td>\n",
       "      <td>HR</td>\n",
       "      <td>9</td>\n",
       "    </tr>\n",
       "    <tr>\n",
       "      <th>16</th>\n",
       "      <td>17</td>\n",
       "      <td>Bryan Walker</td>\n",
       "      <td>32</td>\n",
       "      <td>60687.387773</td>\n",
       "      <td>HR</td>\n",
       "      <td>9</td>\n",
       "    </tr>\n",
       "    <tr>\n",
       "      <th>29</th>\n",
       "      <td>30</td>\n",
       "      <td>Charles Harrington</td>\n",
       "      <td>31</td>\n",
       "      <td>67173.043070</td>\n",
       "      <td>Marketing</td>\n",
       "      <td>9</td>\n",
       "    </tr>\n",
       "  </tbody>\n",
       "</table>\n",
       "</div>"
      ]
     },
     "execution_count": 16,
     "metadata": {},
     "output_type": "execute_result"
    }
   ],
   "execution_count": 16
  }
 ],
 "metadata": {
  "kernelspec": {
   "name": "python3",
   "language": "python",
   "display_name": "Python 3 (ipykernel)"
  }
 },
 "nbformat": 4,
 "nbformat_minor": 5
}
