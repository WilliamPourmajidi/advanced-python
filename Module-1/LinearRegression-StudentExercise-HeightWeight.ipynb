{
 "cells": [
  {
   "cell_type": "markdown",
   "id": "af1732d7",
   "metadata": {},
   "source": [
    "# Linear Regression Exercise: Predicting Weight from Height\n",
    "In this exercise, you will generate synthetic data that models the relationship between height and weight.\n",
    "You will then follow the full linear regression pipeline — from data generation, exploratory analysis, and correlation, to model training and evaluation."
   ]
  },
  {
   "cell_type": "markdown",
   "id": "7ebc21e2",
   "metadata": {},
   "source": [
    "## Step 1: Generate Synthetic Data"
   ]
  },
  {
   "cell_type": "markdown",
   "id": "bd157883",
   "metadata": {},
   "source": [
    "**Task**: Generate a dataset of 500 individuals with two numerical columns:\n",
    "- `Height` (in centimeters)\n",
    "- `Weight` (in kilograms)\n",
    "\n",
    "Use realistic ranges and add a small amount of noise so the relationship between height and weight reflects a realistic correlation (but not perfect)."
   ]
  },
  {
   "cell_type": "code",
   "execution_count": null,
   "id": "36c2a482",
   "metadata": {},
   "outputs": [],
   "source": [
    "# Your code here"
   ]
  },
  {
   "cell_type": "markdown",
   "id": "4e0d9bc5",
   "metadata": {},
   "source": [
    "## Step 2: Exploratory Data Analysis (EDA)"
   ]
  },
  {
   "cell_type": "markdown",
   "id": "5c5e44b0",
   "metadata": {},
   "source": [
    "**Task**: Use pandas commands to explore the dataset:\n",
    "- View the shape and first few rows\n",
    "- Check data types\n",
    "- Describe statistics\n",
    "- Check for missing values"
   ]
  },
  {
   "cell_type": "code",
   "execution_count": null,
   "id": "56ec375e",
   "metadata": {},
   "outputs": [],
   "source": [
    "# Your code here"
   ]
  },
  {
   "cell_type": "markdown",
   "id": "e83b2927",
   "metadata": {},
   "source": [
    "## Step 3: Visualize the Data"
   ]
  },
  {
   "cell_type": "markdown",
   "id": "a344a772",
   "metadata": {},
   "source": [
    "**Task**: Create a scatter plot to visualize the relationship between height and weight.\n",
    "Does the relationship appear linear?"
   ]
  },
  {
   "cell_type": "code",
   "execution_count": null,
   "id": "33555917",
   "metadata": {},
   "outputs": [],
   "source": [
    "# Your code here"
   ]
  },
  {
   "cell_type": "markdown",
   "id": "29c2c56d",
   "metadata": {},
   "source": [
    "## Step 4: Calculate Correlation"
   ]
  },
  {
   "cell_type": "markdown",
   "id": "68c44172",
   "metadata": {},
   "source": [
    "**Task**: Calculate the Pearson correlation coefficient using `DataFrame.corr()` to evaluate how strongly height and weight are linearly related."
   ]
  },
  {
   "cell_type": "code",
   "execution_count": null,
   "id": "fac50193",
   "metadata": {},
   "outputs": [],
   "source": [
    "# Your code here"
   ]
  },
  {
   "cell_type": "markdown",
   "id": "fdac266d",
   "metadata": {},
   "source": [
    "## Step 5: Split the Data into Train and Test Sets"
   ]
  },
  {
   "cell_type": "markdown",
   "id": "cc3321ea",
   "metadata": {},
   "source": [
    "**Task**: Use `train_test_split()` to split your dataset into 80% training and 20% testing.\n",
    "Make sure to set a `random_state` for reproducibility."
   ]
  },
  {
   "cell_type": "code",
   "execution_count": null,
   "id": "de43a881",
   "metadata": {},
   "outputs": [],
   "source": [
    "# Your code here"
   ]
  },
  {
   "cell_type": "markdown",
   "id": "b2965d5b",
   "metadata": {},
   "source": [
    "## Step 6: Train a Linear Regression Model"
   ]
  },
  {
   "cell_type": "markdown",
   "id": "a61b0603",
   "metadata": {},
   "source": [
    "**Task**: Use `LinearRegression()` from scikit-learn to train a model that predicts weight from height using your training data."
   ]
  },
  {
   "cell_type": "code",
   "execution_count": null,
   "id": "c671efe7",
   "metadata": {},
   "outputs": [],
   "source": [
    "# Your code here"
   ]
  },
  {
   "cell_type": "markdown",
   "id": "3f806027",
   "metadata": {},
   "source": [
    "## Step 7: Print Model Coefficients"
   ]
  },
  {
   "cell_type": "markdown",
   "id": "bda0316d",
   "metadata": {},
   "source": [
    "**Task**: Print the slope and intercept of the learned model.\n",
    "Interpret what they mean in the context of height and weight."
   ]
  },
  {
   "cell_type": "code",
   "execution_count": null,
   "id": "4291696b",
   "metadata": {},
   "outputs": [],
   "source": [
    "# Your code here"
   ]
  },
  {
   "cell_type": "markdown",
   "id": "02a6c9e9",
   "metadata": {},
   "source": [
    "## Step 8: Predict and Evaluate the Model"
   ]
  },
  {
   "cell_type": "markdown",
   "id": "d541908f",
   "metadata": {},
   "source": [
    "**Task**: Predict weight values on the test set and evaluate the model performance using:\n",
    "- Mean Squared Error (MSE)\n",
    "- Root Mean Squared Error (RMSE)\n",
    "- R² Score"
   ]
  },
  {
   "cell_type": "code",
   "execution_count": null,
   "id": "8a27fb31",
   "metadata": {},
   "outputs": [],
   "source": [
    "# Your code here"
   ]
  },
  {
   "cell_type": "markdown",
   "id": "92df0597",
   "metadata": {},
   "source": [
    "## Step 9: Visualize Predictions"
   ]
  },
  {
   "cell_type": "markdown",
   "id": "770ec04a",
   "metadata": {},
   "source": [
    "**Task**: Plot the predicted weight values against the actual values.\n",
    "Use different colors or markers to distinguish predictions from actuals."
   ]
  },
  {
   "cell_type": "code",
   "execution_count": null,
   "id": "be3f4295",
   "metadata": {},
   "outputs": [],
   "source": [
    "# Your code here"
   ]
  }
 ],
 "metadata": {},
 "nbformat": 4,
 "nbformat_minor": 5
}
