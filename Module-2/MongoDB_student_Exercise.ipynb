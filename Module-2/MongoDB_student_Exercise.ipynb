{
 "cells": [
  {
   "cell_type": "markdown",
   "id": "52a5e8e0",
   "metadata": {},
   "source": [
    "# Take-Home Assignment: Working with MongoDB Atlas\n",
    "In this assignment, you will:\n",
    "- Connect to a MongoDB Atlas cluster using Python\n",
    "- Create a database and a collection\n",
    "- Insert documents related to student records\n",
    "- Read and display the documents using queries\n",
    "- Optionally update or delete documents\n",
    "\n",
    "**Note**: You must include Markdown cells explaining what each step is doing and comment your code properly."
   ]
  },
  {
   "cell_type": "markdown",
   "id": "7688c5d2",
   "metadata": {},
   "source": [
    "## Step 1: Connect to MongoDB Atlas\n",
    "Replace the placeholder values with your **username** and **password** for your MongoDB Atlas account.\n",
    "Use the `pymongo` library to connect. Make sure your IP address is whitelisted in your MongoDB Atlas settings."
   ]
  },
  {
   "cell_type": "code",
   "execution_count": null,
   "id": "7cc7fb14",
   "metadata": {},
   "outputs": [],
   "source": [
    "from pymongo.mongo_client import MongoClient\n",
    "from pymongo.server_api import ServerApi\n",
    "\n",
    "# Replace with your MongoDB Atlas credentials\n",
    "username = \"<your-username>\"\n",
    "pw = \"<your-password>\"\n",
    "uri = f\"mongodb+srv://{username}:{pw}@<your-cluster>.mongodb.net/?retryWrites=true&w=majority\"\n",
    "\n",
    "# Connect to the cluster\n",
    "client = MongoClient(uri, server_api=ServerApi('1'))\n",
    "\n",
    "try:\n",
    "    client.admin.command('ping')\n",
    "    print(\"Successfully connected to MongoDB Atlas!\")\n",
    "except Exception as e:\n",
    "    print(\"Connection failed:\", e)"
   ]
  },
  {
   "cell_type": "markdown",
   "id": "862c3fcd",
   "metadata": {},
   "source": [
    "## Step 2: Insert Student Data\n",
    "Create a new database called `universityDB` and a collection called `students`. Then insert 5 student records with the following fields:\n",
    "- First Name\n",
    "- Last Name\n",
    "- Date of Birth (as string or datetime)\n",
    "- Major"
   ]
  },
  {
   "cell_type": "code",
   "execution_count": null,
   "id": "de04fa68",
   "metadata": {},
   "outputs": [],
   "source": [
    "# Create database and collection\n",
    "db = client.universityDB\n",
    "students = db[\"students\"]\n",
    "\n",
    "# Define student documents\n",
    "student_docs = [\n",
    "    {\"first_name\": \"Alice\", \"last_name\": \"Johnson\", \"dob\": \"2001-05-12\", \"major\": \"Computer Science\"},\n",
    "    {\"first_name\": \"Bob\", \"last_name\": \"Smith\", \"dob\": \"2000-07-22\", \"major\": \"Information Technology\"},\n",
    "    {\"first_name\": \"Charlie\", \"last_name\": \"Lee\", \"dob\": \"2002-03-14\", \"major\": \"Software Engineering\"},\n",
    "    {\"first_name\": \"Diana\", \"last_name\": \"Garcia\", \"dob\": \"2001-12-01\", \"major\": \"Data Science\"},\n",
    "    {\"first_name\": \"Ethan\", \"last_name\": \"Wright\", \"dob\": \"2003-01-09\", \"major\": \"Cybersecurity\"}\n",
    "]\n",
    "\n",
    "# Insert data\n",
    "students.drop()  # remove existing if re-running\n",
    "students.insert_many(student_docs)"
   ]
  },
  {
   "cell_type": "markdown",
   "id": "5cddc85e",
   "metadata": {},
   "source": [
    "## Step 3: Read and Display the Documents\n",
    "Display the inserted student records with proper formatting."
   ]
  },
  {
   "cell_type": "code",
   "execution_count": null,
   "id": "5c7e1eb3",
   "metadata": {},
   "outputs": [],
   "source": [
    "results = students.find()\n",
    "for student in results:\n",
    "    print(f\"{student['first_name']} {student['last_name']} - Major: {student['major']} - DOB: {student['dob']}\")"
   ]
  }
 ],
 "metadata": {},
 "nbformat": 4,
 "nbformat_minor": 5
}
