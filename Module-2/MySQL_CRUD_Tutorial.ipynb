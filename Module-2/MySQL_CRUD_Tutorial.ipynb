{
 "cells": [
  {
   "cell_type": "markdown",
   "id": "d317db54",
   "metadata": {},
   "source": [
    "# MySQL CRUD Operations with Python\n",
    "This Jupyter Notebook demonstrates how to perform basic **Create**, **Read**, **Update**, and **Delete** (CRUD) operations using Python and MySQL."
   ]
  },
  {
   "cell_type": "markdown",
   "id": "eda05216",
   "metadata": {},
   "source": [
    "## Step 1: Install MySQL Connector\n",
    "To interact with MySQL from Python, you need to install the `mysql-connector-python` package."
   ]
  },
  {
   "cell_type": "code",
   "id": "1ba21914",
   "metadata": {
    "ExecuteTime": {
     "end_time": "2025-05-27T14:56:13.871178Z",
     "start_time": "2025-05-27T14:56:03.190755Z"
    }
   },
   "source": [
    "!pip install mysql-connector-python"
   ],
   "outputs": [
    {
     "name": "stdout",
     "output_type": "stream",
     "text": [
      "Requirement already satisfied: mysql-connector-python in c:\\users\\william\\appdata\\local\\programs\\python\\python312\\lib\\site-packages (9.3.0)\n"
     ]
    },
    {
     "name": "stderr",
     "output_type": "stream",
     "text": [
      "WARNING: Ignoring invalid distribution ~ (C:\\Users\\William\\AppData\\Local\\Programs\\Python\\Python312\\Lib\\site-packages)\n",
      "WARNING: Ignoring invalid distribution ~ (C:\\Users\\William\\AppData\\Local\\Programs\\Python\\Python312\\Lib\\site-packages)\n",
      "WARNING: Ignoring invalid distribution ~ (C:\\Users\\William\\AppData\\Local\\Programs\\Python\\Python312\\Lib\\site-packages)\n"
     ]
    }
   ],
   "execution_count": 29
  },
  {
   "cell_type": "markdown",
   "id": "64452717",
   "metadata": {},
   "source": [
    "## Step 2: Import Required Libraries"
   ]
  },
  {
   "cell_type": "code",
   "id": "dfd33731",
   "metadata": {
    "ExecuteTime": {
     "end_time": "2025-05-27T14:56:27.798626Z",
     "start_time": "2025-05-27T14:56:27.768443Z"
    }
   },
   "source": [
    "import mysql.connector"
   ],
   "outputs": [],
   "execution_count": 30
  },
  {
   "cell_type": "markdown",
   "id": "a42e7dcd",
   "metadata": {},
   "source": [
    "## Step 3: Connect to MySQL Server\n",
    "Update the credentials as per your MySQL setup."
   ]
  },
  {
   "cell_type": "code",
   "id": "85b6d788",
   "metadata": {
    "ExecuteTime": {
     "end_time": "2025-05-27T15:01:40.626414Z",
     "start_time": "2025-05-27T15:01:40.613597Z"
    }
   },
   "source": [
    "def connect_to_mysql():\n",
    "    connection = mysql.connector.connect(\n",
    "        host=\"localhost\",       # Replace with your host\n",
    "        user=\"root\",            # Replace with your username\n",
    "        password=\"william\"      # Replace with your password\n",
    "    )\n",
    "    print(\"We are successfully connected to the MySQL Server!\")\n",
    "    return connection\n",
    "\n"
   ],
   "outputs": [],
   "execution_count": 38
  },
  {
   "cell_type": "markdown",
   "id": "139b78d3",
   "metadata": {},
   "source": [
    "## Step 4: List Existing Databases"
   ]
  },
  {
   "cell_type": "code",
   "id": "3e3110dc",
   "metadata": {
    "ExecuteTime": {
     "end_time": "2025-05-27T15:02:41.791696Z",
     "start_time": "2025-05-27T15:02:41.748840Z"
    }
   },
   "source": [
    "\n",
    "def list_databases(connection):\n",
    "    cursor = connection.cursor()\n",
    "    cursor.execute(\"SHOW DATABASES\")\n",
    "    print(\"Here are our current databases:\")\n",
    "    for db in cursor.fetchall():\n",
    "        print(db[0])\n",
    "    cursor.close()\n",
    "\n",
    "conn = connect_to_mysql() # Establish connection to MySQL Server\n",
    "list_databases(conn)\n"
   ],
   "outputs": [
    {
     "name": "stdout",
     "output_type": "stream",
     "text": [
      "We are successfully connected to the MySQL Server!\n",
      "Here are our current databases:\n",
      "information_schema\n",
      "mysql\n",
      "performance_schema\n",
      "sys\n"
     ]
    }
   ],
   "execution_count": 42
  },
  {
   "cell_type": "markdown",
   "id": "4ab64cb4",
   "metadata": {},
   "source": [
    "## Step 5: Create a New Database"
   ]
  },
  {
   "cell_type": "code",
   "id": "29998f06",
   "metadata": {
    "ExecuteTime": {
     "end_time": "2025-05-27T15:05:33.619987Z",
     "start_time": "2025-05-27T15:05:33.597353Z"
    }
   },
   "source": [
    "def create_database(connection, db_name):\n",
    "    cursor = connection.cursor()\n",
    "    cursor.execute(f\"CREATE DATABASE IF NOT EXISTS {db_name}\")\n",
    "    cursor.close()\n",
    "    print(f\"Database '{db_name}' created.\")\n",
    "\n",
    "create_database(conn, \"college\")\n"
   ],
   "outputs": [
    {
     "name": "stdout",
     "output_type": "stream",
     "text": [
      "Database 'college' created.\n"
     ]
    }
   ],
   "execution_count": 43
  },
  {
   "cell_type": "markdown",
   "id": "47b519ff",
   "metadata": {},
   "source": [
    "## Step 6: Connect to the Specific Database"
   ]
  },
  {
   "cell_type": "code",
   "id": "952a21d5",
   "metadata": {
    "ExecuteTime": {
     "end_time": "2025-05-27T15:22:29.654107Z",
     "start_time": "2025-05-27T15:22:29.622869Z"
    }
   },
   "source": [
    "\n",
    "def connect_to_database(db_name):\n",
    "    connection = mysql.connector.connect(\n",
    "        host=\"localhost\",\n",
    "        user=\"root\",\n",
    "        password=\"william\",\n",
    "        database=db_name\n",
    "    )\n",
    "    return connection\n",
    "\n",
    "conn.close()\n",
    "conn = connect_to_database(\"college\")\n"
   ],
   "outputs": [],
   "execution_count": 61
  },
  {
   "cell_type": "markdown",
   "id": "667dcafa",
   "metadata": {},
   "source": [
    "## Step 7: Create Table"
   ]
  },
  {
   "cell_type": "code",
   "id": "dc892706",
   "metadata": {
    "ExecuteTime": {
     "end_time": "2025-05-27T15:13:35.960479Z",
     "start_time": "2025-05-27T15:13:35.849764Z"
    }
   },
   "source": [
    "\n",
    "def create_table(connection):\n",
    "    cursor = connection.cursor()\n",
    "    cursor.execute(\"\"\"\n",
    "    CREATE TABLE IF NOT EXISTS students (\n",
    "        id INT AUTO_INCREMENT PRIMARY KEY,\n",
    "        name VARCHAR(255),\n",
    "        age INT,\n",
    "        major VARCHAR(255)\n",
    "    )\n",
    "    \"\"\")\n",
    "    cursor.close()\n",
    "    print(\"Table students created.\")\n",
    "\n",
    "create_table(conn)\n"
   ],
   "outputs": [
    {
     "name": "stdout",
     "output_type": "stream",
     "text": [
      "Table students created.\n"
     ]
    }
   ],
   "execution_count": 47
  },
  {
   "cell_type": "markdown",
   "id": "f1b28aad",
   "metadata": {},
   "source": [
    "## Step 8: CRUD Operations\n",
    "### Insert a Student"
   ]
  },
  {
   "cell_type": "code",
   "id": "9bd25602",
   "metadata": {
    "ExecuteTime": {
     "end_time": "2025-05-27T15:21:02.891883Z",
     "start_time": "2025-05-27T15:21:02.857333Z"
    }
   },
   "source": [
    "\n",
    "def insert_student(connection, name, age, major):\n",
    "    cursor = connection.cursor()\n",
    "    query = \"INSERT INTO students (name, age, major) VALUES (%s, %s, %s)\"\n",
    "    cursor.execute(query, (name, age, major))\n",
    "    connection.commit()\n",
    "    cursor.close()\n",
    "    print(f\"Inserted: {name}\")\n",
    "\n",
    "insert_student(conn, \"William\", 43, \"Computer Science\")\n",
    "insert_student(conn, \"Allan\", 33, \"Programming\")\n",
    "\n"
   ],
   "outputs": [
    {
     "name": "stdout",
     "output_type": "stream",
     "text": [
      "Inserted: William\n",
      "Inserted: Allan\n"
     ]
    }
   ],
   "execution_count": 57
  },
  {
   "cell_type": "markdown",
   "id": "30fe4f3a",
   "metadata": {},
   "source": [
    "### Read Students"
   ]
  },
  {
   "cell_type": "code",
   "id": "595f2beb",
   "metadata": {
    "ExecuteTime": {
     "end_time": "2025-05-27T15:22:47.919600Z",
     "start_time": "2025-05-27T15:22:47.909076Z"
    }
   },
   "source": [
    "\n",
    "def read_students(connection):\n",
    "    cursor = connection.cursor()\n",
    "    cursor.execute(\"SELECT * FROM students\")\n",
    "    for row in cursor.fetchall():\n",
    "        print(row)\n",
    "    cursor.close()\n",
    "\n",
    "read_students(conn)\n"
   ],
   "outputs": [
    {
     "name": "stdout",
     "output_type": "stream",
     "text": [
      "(1, 'WilliamP', 43, 'Computer Science')\n",
      "(2, 'AllanW', 55, 'Programming')\n"
     ]
    }
   ],
   "execution_count": 62
  },
  {
   "cell_type": "markdown",
   "id": "4a0ee338",
   "metadata": {},
   "source": [
    "### Update Student's Major"
   ]
  },
  {
   "cell_type": "code",
   "id": "48f4c7f5",
   "metadata": {
    "ExecuteTime": {
     "end_time": "2025-05-27T15:24:48.910971Z",
     "start_time": "2025-05-27T15:24:48.879006Z"
    }
   },
   "source": [
    "\n",
    "def update_student_major(connection, student_id, new_major):\n",
    "    cursor = connection.cursor()\n",
    "    cursor.execute(\"UPDATE students SET major = %s WHERE id = %s\", (new_major, student_id))\n",
    "    connection.commit()\n",
    "    cursor.close()\n",
    "    print(\"Major updated.\")\n",
    "\n",
    "update_student_major(conn, 2, \"Game Development\")\n",
    "read_students(conn)\n"
   ],
   "outputs": [
    {
     "name": "stdout",
     "output_type": "stream",
     "text": [
      "Major updated.\n",
      "(1, 'WilliamP', 43, 'Computer Science')\n",
      "(2, 'AllanW', 55, 'Game Development')\n"
     ]
    }
   ],
   "execution_count": 63
  },
  {
   "cell_type": "markdown",
   "id": "ed1ac686",
   "metadata": {},
   "source": [
    "### Delete Student"
   ]
  },
  {
   "cell_type": "code",
   "id": "b21315f2",
   "metadata": {
    "ExecuteTime": {
     "end_time": "2025-05-27T15:26:24.352214Z",
     "start_time": "2025-05-27T15:26:24.332163Z"
    }
   },
   "source": [
    "\n",
    "def delete_student(connection, student_id):\n",
    "    cursor = connection.cursor()\n",
    "    cursor.execute(\"DELETE FROM students WHERE id = %s\", (student_id,))\n",
    "    connection.commit()\n",
    "    cursor.close()\n",
    "    print(\"Student deleted.\")\n",
    "\n",
    "delete_student(conn, 2)\n",
    "print(\"here are the remaining records:\")\n",
    "read_students(conn)\n"
   ],
   "outputs": [
    {
     "name": "stdout",
     "output_type": "stream",
     "text": [
      "Student deleted.\n",
      "here are the remaining records:\n"
     ]
    }
   ],
   "execution_count": 68
  }
 ],
 "metadata": {
  "kernelspec": {
   "name": "python3",
   "language": "python",
   "display_name": "Python 3 (ipykernel)"
  }
 },
 "nbformat": 4,
 "nbformat_minor": 5
}
