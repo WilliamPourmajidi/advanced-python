{
 "cells": [
  {
   "cell_type": "markdown",
   "id": "291b3320",
   "metadata": {},
   "source": [
    "# Exercise: MySQL Store Database\n",
    "In this exercise, you will create a MySQL database for a simple store system. The store has two main tables:\n",
    "- `clients`\n",
    "- `items`\n",
    "\n",
    "You will:\n",
    "1. Create the database\n",
    "2. Create the two tables\n",
    "3. Insert two sample records into each table\n",
    "\n",
    "Use the following steps and code templates as a guide."
   ]
  },
  {
   "cell_type": "markdown",
   "id": "2802ae9f",
   "metadata": {},
   "source": [
    "## Step 1: Connect to MySQL Server"
   ]
  },
  {
   "cell_type": "code",
   "execution_count": null,
   "id": "600af20e",
   "metadata": {},
   "outputs": [],
   "source": [
    "\n",
    "import mysql.connector\n",
    "\n",
    "def connect_to_mysql():\n",
    "    connection = mysql.connector.connect(\n",
    "        host=\"localhost\",\n",
    "        user=\"root\",\n",
    "        password=\"your_password\"  # Replace with your actual password\n",
    "    )\n",
    "    return connection\n",
    "\n",
    "conn = connect_to_mysql()\n"
   ]
  },
  {
   "cell_type": "markdown",
   "id": "2803df62",
   "metadata": {},
   "source": [
    "## Step 2: Create Store Database"
   ]
  },
  {
   "cell_type": "code",
   "execution_count": null,
   "id": "73e5ea58",
   "metadata": {},
   "outputs": [],
   "source": [
    "\n",
    "def create_database(connection, db_name):\n",
    "    cursor = connection.cursor()\n",
    "    cursor.execute(f\"CREATE DATABASE IF NOT EXISTS {db_name}\")\n",
    "    cursor.close()\n",
    "    print(f\"Database '{db_name}' created.\")\n",
    "\n",
    "create_database(conn, \"store_db\")\n"
   ]
  },
  {
   "cell_type": "markdown",
   "id": "907e6fab",
   "metadata": {},
   "source": [
    "## Step 3: Connect to the `store_db` Database"
   ]
  },
  {
   "cell_type": "code",
   "execution_count": null,
   "id": "0c021d84",
   "metadata": {},
   "outputs": [],
   "source": [
    "\n",
    "def connect_to_database(db_name):\n",
    "    connection = mysql.connector.connect(\n",
    "        host=\"localhost\",\n",
    "        user=\"root\",\n",
    "        password=\"your_password\",\n",
    "        database=db_name\n",
    "    )\n",
    "    return connection\n",
    "\n",
    "conn.close()\n",
    "conn = connect_to_database(\"store_db\")\n"
   ]
  },
  {
   "cell_type": "markdown",
   "id": "0a59d279",
   "metadata": {},
   "source": [
    "## Step 4: Create `clients` and `items` Tables"
   ]
  },
  {
   "cell_type": "code",
   "execution_count": null,
   "id": "6637935b",
   "metadata": {},
   "outputs": [],
   "source": [
    "\n",
    "def create_tables(connection):\n",
    "    cursor = connection.cursor()\n",
    "    cursor.execute(\"\"\"\n",
    "    CREATE TABLE IF NOT EXISTS clients (\n",
    "        id INT AUTO_INCREMENT PRIMARY KEY,\n",
    "        name VARCHAR(255) NOT NULL,\n",
    "        email VARCHAR(255)\n",
    "    )\n",
    "    \"\"\")\n",
    "    cursor.execute(\"\"\"\n",
    "    CREATE TABLE IF NOT EXISTS items (\n",
    "        id INT AUTO_INCREMENT PRIMARY KEY,\n",
    "        name VARCHAR(255) NOT NULL,\n",
    "        price DECIMAL(10, 2)\n",
    "    )\n",
    "    \"\"\")\n",
    "    cursor.close()\n",
    "    print(\"Tables 'clients' and 'items' created.\")\n",
    "\n",
    "create_tables(conn)\n"
   ]
  },
  {
   "cell_type": "markdown",
   "id": "affa853e",
   "metadata": {},
   "source": [
    "## Step 5: Insert Sample Data into Each Table"
   ]
  },
  {
   "cell_type": "code",
   "execution_count": null,
   "id": "0de664e5",
   "metadata": {},
   "outputs": [],
   "source": [
    "\n",
    "def insert_sample_data(connection):\n",
    "    cursor = connection.cursor()\n",
    "    cursor.execute(\"INSERT INTO clients (name, email) VALUES ('Alice Smith', 'alice@example.com')\")\n",
    "    cursor.execute(\"INSERT INTO clients (name, email) VALUES ('Bob Johnson', 'bob@example.com')\")\n",
    "    cursor.execute(\"INSERT INTO items (name, price) VALUES ('Laptop', 1200.50)\")\n",
    "    cursor.execute(\"INSERT INTO items (name, price) VALUES ('Phone', 699.99)\")\n",
    "    connection.commit()\n",
    "    cursor.close()\n",
    "    print(\"Sample data inserted into 'clients' and 'items'.\")\n",
    "\n",
    "insert_sample_data(conn)\n"
   ]
  },
  {
   "cell_type": "markdown",
   "id": "26fe0e34",
   "metadata": {},
   "source": [
    "## Step 6: View Data in Both Tables"
   ]
  },
  {
   "cell_type": "code",
   "execution_count": null,
   "id": "554e9908",
   "metadata": {},
   "outputs": [],
   "source": [
    "\n",
    "def view_table(connection, table_name):\n",
    "    cursor = connection.cursor()\n",
    "    cursor.execute(f\"SELECT * FROM {table_name}\")\n",
    "    for row in cursor.fetchall():\n",
    "        print(row)\n",
    "    cursor.close()\n",
    "\n",
    "view_table(conn, \"clients\")\n",
    "view_table(conn, \"items\")\n"
   ]
  }
 ],
 "metadata": {},
 "nbformat": 4,
 "nbformat_minor": 5
}
