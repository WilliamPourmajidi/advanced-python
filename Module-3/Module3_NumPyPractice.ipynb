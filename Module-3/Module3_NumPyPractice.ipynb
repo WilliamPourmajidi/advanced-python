{
 "cells": [
  {
   "cell_type": "markdown",
   "id": "e5abd0aa",
   "metadata": {},
   "source": [
    "# In-Class Activity: NumPy Practice – Vectors, Matrices, Arrays\n",
    "This notebook contains hands-on tasks to reinforce key concepts introduced in Module 3, including vectors, matrices, lambda functions, statistical operations, and reshaping arrays."
   ]
  },
  {
   "cell_type": "markdown",
   "id": "d7c5895d",
   "metadata": {},
   "source": [
    "## Task 1: Create and Access a Vector\n",
    "1. Create a NumPy vector with 6 elements of your choice.\n",
    "2. Access the 3rd and last elements using both positive and negative indexing.\n",
    "3. Print the entire vector and the accessed elements."
   ]
  },
  {
   "cell_type": "code",
   "execution_count": null,
   "id": "7184ce6d",
   "metadata": {},
   "outputs": [],
   "source": [
    "# Your code here"
   ]
  },
  {
   "cell_type": "markdown",
   "id": "83d634b0",
   "metadata": {},
   "source": [
    "## Task 2: Create and Access a Matrix\n",
    "1. Create a 3x3 matrix with any numbers.\n",
    "2. Print the shape, size, and number of dimensions of the matrix.\n",
    "3. Access the element at row 2, column 3."
   ]
  },
  {
   "cell_type": "code",
   "execution_count": null,
   "id": "ea339a8f",
   "metadata": {},
   "outputs": [],
   "source": [
    "# Your code here"
   ]
  },
  {
   "cell_type": "markdown",
   "id": "c89bf48f",
   "metadata": {},
   "source": [
    "## Task 3: Matrix Arithmetic and Dot Product\n",
    "1. Create two 2x2 matrices.\n",
    "2. Perform addition, subtraction, and dot product between them.\n",
    "3. Print the results."
   ]
  },
  {
   "cell_type": "code",
   "execution_count": null,
   "id": "ec9f9061",
   "metadata": {},
   "outputs": [],
   "source": [
    "# Your code here"
   ]
  },
  {
   "cell_type": "markdown",
   "id": "8f8f1202",
   "metadata": {},
   "source": [
    "## Task 4: Manual Matrix Multiplication\n",
    "Write a function to multiply two matrices manually (without using NumPy functions) and test it with 2x2 matrices."
   ]
  },
  {
   "cell_type": "code",
   "execution_count": null,
   "id": "191ce061",
   "metadata": {},
   "outputs": [],
   "source": [
    "# Your code here"
   ]
  },
  {
   "cell_type": "markdown",
   "id": "bedb3351",
   "metadata": {},
   "source": [
    "## Task 5: Lambda Functions and Vectorization\n",
    "1. Write a lambda function to square a number.\n",
    "2. Use `np.vectorize()` to apply this function to an array of 5 elements.\n",
    "3. Print the original and transformed arrays."
   ]
  },
  {
   "cell_type": "code",
   "execution_count": null,
   "id": "48054699",
   "metadata": {},
   "outputs": [],
   "source": [
    "# Your code here"
   ]
  },
  {
   "cell_type": "markdown",
   "id": "4a1313af",
   "metadata": {},
   "source": [
    "## Task 6: Statistical Functions and Random Arrays\n",
    "1. Generate a 4x3 matrix of random integers between 1 and 100.\n",
    "2. Compute and print:\n",
    "- The maximum values row-wise\n",
    "- The mean values column-wise\n",
    "3. Generate and display a sample of 5 values from:\n",
    "- Normal distribution\n",
    "- Logistic distribution\n",
    "- Uniform distribution"
   ]
  },
  {
   "cell_type": "code",
   "execution_count": null,
   "id": "fd8bd86b",
   "metadata": {},
   "outputs": [],
   "source": [
    "# Your code here"
   ]
  },
  {
   "cell_type": "markdown",
   "id": "77a1799a",
   "metadata": {},
   "source": [
    "## Task 7: Reshaping Arrays\n",
    "1. Create a 1D NumPy array with 16 elements using `np.arange()`.\n",
    "2. Reshape it into a 4x4 matrix and display both the original and reshaped arrays."
   ]
  },
  {
   "cell_type": "code",
   "execution_count": null,
   "id": "b3c570f2",
   "metadata": {},
   "outputs": [],
   "source": [
    "# Your code here"
   ]
  }
 ],
 "metadata": {},
 "nbformat": 4,
 "nbformat_minor": 5
}
