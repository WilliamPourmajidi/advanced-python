{
 "cells": [
  {
   "cell_type": "markdown",
   "id": "fd485dc7",
   "metadata": {},
   "source": [
    "# Module 3: Working with Vectors, Matrices, and Arrays in Python\n",
    "This notebook covers the use of NumPy for operations involving vectors, matrices, arrays, and reshaping techniques. It includes explanations, code examples, and best practices for data scientists and AI/ML engineers."
   ]
  },
  {
   "cell_type": "markdown",
   "id": "59b32d15",
   "metadata": {},
   "source": [
    "## 3.1 Working with Vectors\n",
    "A **vector** in Python using NumPy is a one-dimensional array. Let's begin by creating and accessing its elements."
   ]
  },
  {
   "cell_type": "code",
   "id": "84c8211b",
   "metadata": {
    "ExecuteTime": {
     "end_time": "2025-06-10T14:39:24.959389Z",
     "start_time": "2025-06-10T14:39:24.946887Z"
    }
   },
   "source": [
    "import numpy as np\n",
    "\n",
    "# Create a vector\n",
    "vector = np.array([2, 4, 6, 8, 10])\n",
    "print(\"Vector:\", vector)"
   ],
   "outputs": [
    {
     "name": "stdout",
     "output_type": "stream",
     "text": [
      "Vector: [ 2  4  6  8 10]\n"
     ]
    }
   ],
   "execution_count": 1
  },
  {
   "cell_type": "code",
   "id": "a7193587",
   "metadata": {
    "ExecuteTime": {
     "end_time": "2025-06-10T14:40:38.853164Z",
     "start_time": "2025-06-10T14:40:38.846123Z"
    }
   },
   "source": [
    "# Accessing element '6' in two ways\n",
    "print(\"Method 1:\", vector[2])\n",
    "print(\"Method 2:\", vector[-2])"
   ],
   "outputs": [
    {
     "name": "stdout",
     "output_type": "stream",
     "text": [
      "Method 1: 6\n",
      "Method 2: 8\n"
     ]
    }
   ],
   "execution_count": 4
  },
  {
   "cell_type": "markdown",
   "id": "8bf81ae1",
   "metadata": {},
   "source": [
    "## 3.2 Working with Matrices\n",
    "A **matrix** is represented as a 2D array. Let's create one and access an element within it."
   ]
  },
  {
   "cell_type": "code",
   "id": "3ed21c6d",
   "metadata": {
    "ExecuteTime": {
     "end_time": "2025-06-10T14:44:11.378074Z",
     "start_time": "2025-06-10T14:44:11.368071Z"
    }
   },
   "source": [
    "# Create a 3x3 matrix\n",
    "matrix = np.array([[1, 2, 3], [4, 5, 6], [7, 8, 9]])\n",
    "print(\"Matrix:\\n\", matrix)\n",
    "print(\"Element of our matrix at [2][2]:\", matrix[2][2])"
   ],
   "outputs": [
    {
     "name": "stdout",
     "output_type": "stream",
     "text": [
      "Matrix:\n",
      " [[1 2 3]\n",
      " [4 5 6]\n",
      " [7 8 9]]\n",
      "Element of our matrix at [2][2]: 9\n"
     ]
    }
   ],
   "execution_count": 9
  },
  {
   "cell_type": "markdown",
   "id": "b9cf16c2",
   "metadata": {},
   "source": [
    "## 3.3 Matrix Descriptions and Operations\n",
    "Understanding shape, size, and dimension of a matrix."
   ]
  },
  {
   "cell_type": "code",
   "id": "b3d4cb7b",
   "metadata": {
    "ExecuteTime": {
     "end_time": "2025-06-10T14:44:40.728153Z",
     "start_time": "2025-06-10T14:44:40.719944Z"
    }
   },
   "source": [
    "matrix = np.array([[1, 2, 3], [4, 5, 6], [7, 8, 9]])\n",
    "print(\"Shape:\", matrix.shape)\n",
    "print(\"Size:\", matrix.size)\n",
    "print(\"Dimensions:\", matrix.ndim)"
   ],
   "outputs": [
    {
     "name": "stdout",
     "output_type": "stream",
     "text": [
      "Shape: (3, 3)\n",
      "Size: 9\n",
      "Dimensions: 2\n"
     ]
    }
   ],
   "execution_count": 11
  },
  {
   "cell_type": "code",
   "id": "c4f8900a",
   "metadata": {
    "ExecuteTime": {
     "end_time": "2025-06-10T14:46:10.295094Z",
     "start_time": "2025-06-10T14:46:10.280759Z"
    }
   },
   "source": [
    "# Arithmetic operations\n",
    "a = np.array([[1, 2], [3, 4]])\n",
    "b = np.array([[2, 0], [1, 3]])\n",
    "print(a)\n",
    "print(b)\n",
    "print(\"Dot Product:\\n\", np.dot(a, b))\n",
    "print(\"Addition:\\n\", np.add(a, b))\n",
    "print(\"Subtraction:\\n\", np.subtract(a, b))"
   ],
   "outputs": [
    {
     "name": "stdout",
     "output_type": "stream",
     "text": [
      "[[1 2]\n",
      " [3 4]]\n",
      "[[2 0]\n",
      " [1 3]]\n",
      "Dot Product:\n",
      " [[ 4  6]\n",
      " [10 12]]\n",
      "Addition:\n",
      " [[3 2]\n",
      " [4 7]]\n",
      "Subtraction:\n",
      " [[-1  2]\n",
      " [ 2  1]]\n"
     ]
    }
   ],
   "execution_count": 14
  },
  {
   "cell_type": "markdown",
   "id": "bfbf912e",
   "metadata": {},
   "source": [
    "### Challenge: Manual Matrix Multiplication\n",
    "$C = A \\times B = C_{ij} = \\sum_{k=1}^{n} a_{ik} \\cdot b_{kj}$\n",
    "\n"
   ]
  },
  {
   "cell_type": "code",
   "id": "886e9dc5",
   "metadata": {
    "ExecuteTime": {
     "end_time": "2025-06-10T14:58:35.768993Z",
     "start_time": "2025-06-10T14:58:35.758871Z"
    }
   },
   "source": [
    "def manual_matrix_multiply(A, B):\n",
    "    result = [[0 for _ in range(len(B[0]))] for _ in range(len(A))]\n",
    "    for i in range(len(A)):\n",
    "        for j in range(len(B[0])):\n",
    "            for k in range(len(B)):\n",
    "                result[i][j] += A[i][k] * B[k][j]\n",
    "    return result\n",
    "\n",
    "A = [[1, 2], [3, 4]]\n",
    "B = [[2, 0], [1, 3]]\n",
    "print(\"Manual Multiplication Result:\\n\", manual_matrix_multiply(A, B))\n",
    "\n",
    "c = np.matmul(A,B)\n",
    "print(\"Automatic\\n\" , c)\n"
   ],
   "outputs": [
    {
     "name": "stdout",
     "output_type": "stream",
     "text": [
      "Manual Multiplication Result:\n",
      " [[4, 6], [10, 12]]\n",
      "Automatic\n",
      " [[ 4  6]\n",
      " [10 12]]\n"
     ]
    }
   ],
   "execution_count": 24
  },
  {
   "cell_type": "markdown",
   "id": "eef504cb",
   "metadata": {},
   "source": [
    "## 3.4 Array Manipulations and Lambda Functions"
   ]
  },
  {
   "cell_type": "code",
   "id": "b3acf89c",
   "metadata": {
    "ExecuteTime": {
     "end_time": "2025-06-10T14:59:30.252204Z",
     "start_time": "2025-06-10T14:59:30.243030Z"
    }
   },
   "source": [
    "# Lambda function examples\n",
    "add_15 = lambda a: a + 15\n",
    "multiply = lambda a, b, c: a * b * c\n",
    "print(\"Add 15:\", add_15(10))\n",
    "print(\"Multiply:\", multiply(2, 3, 4))"
   ],
   "outputs": [
    {
     "name": "stdout",
     "output_type": "stream",
     "text": [
      "Add 15: 25\n",
      "Multiply: 24\n"
     ]
    }
   ],
   "execution_count": 25
  },
  {
   "cell_type": "code",
   "id": "49b4d27c",
   "metadata": {
    "ExecuteTime": {
     "end_time": "2025-06-10T15:04:17.545603Z",
     "start_time": "2025-06-10T15:04:17.538211Z"
    }
   },
   "source": [
    "# Vectorizing a function\n",
    "def square(x): return x ** 2\n",
    "vec_func = np.vectorize(square)\n",
    "my_vec = np.array([1, 2, 3, 4])\n",
    "print(\"Vectorized Result:\", vec_func(my_vec))"
   ],
   "outputs": [
    {
     "name": "stdout",
     "output_type": "stream",
     "text": [
      "Vectorized Result: [ 1  4  9 16]\n"
     ]
    }
   ],
   "execution_count": 32
  },
  {
   "cell_type": "markdown",
   "id": "33ddcb6f",
   "metadata": {},
   "source": [
    "### Statistical Functions and Random Value Generation"
   ]
  },
  {
   "cell_type": "code",
   "id": "e85feb18",
   "metadata": {
    "ExecuteTime": {
     "end_time": "2025-06-10T15:07:01.030396Z",
     "start_time": "2025-06-10T15:07:01.016601Z"
    }
   },
   "source": [
    "# Random array and basic stats\n",
    "arr = np.random.randint(10, 100, size=(4, 4))\n",
    "print(\"Array:\\n\", arr)\n",
    "print(\"Row-wise Max:\", np.max(arr, axis=1))\n",
    "print(\"Column-wise Mean:\", np.mean(arr, axis=0))"
   ],
   "outputs": [
    {
     "name": "stdout",
     "output_type": "stream",
     "text": [
      "Array:\n",
      " [[23 89 53 10]\n",
      " [83 87 33 79]\n",
      " [10 64 79 45]\n",
      " [50 62 36 31]]\n",
      "Row-wise Max: [89 87 79 62]\n",
      "Column-wise Mean: [41.5  75.5  50.25 41.25]\n"
     ]
    }
   ],
   "execution_count": 35
  },
  {
   "cell_type": "code",
   "id": "417ab5f4",
   "metadata": {
    "ExecuteTime": {
     "end_time": "2025-06-10T15:07:15.790625Z",
     "start_time": "2025-06-10T15:07:15.773331Z"
    }
   },
   "source": [
    "# Different distributions\n",
    "print(\"Normal:\", np.random.normal(0, 1, 5))\n",
    "print(\"Logistic:\", np.random.logistic(0, 1, 5))\n",
    "print(\"Uniform:\", np.random.uniform(0, 10, 5))"
   ],
   "outputs": [
    {
     "name": "stdout",
     "output_type": "stream",
     "text": [
      "Normal: [-1.85929017  0.29758254 -0.34706121 -0.42010367 -1.1912853 ]\n",
      "Logistic: [-1.85817264  0.47253337 -0.14115011 -4.58834503 -2.78508044]\n",
      "Uniform: [4.58172544 6.97256107 2.27937496 4.10475176 5.95901178]\n"
     ]
    }
   ],
   "execution_count": 36
  },
  {
   "cell_type": "markdown",
   "id": "80be7cc6",
   "metadata": {},
   "source": [
    "## 3.5 Reshaping Arrays"
   ]
  },
  {
   "cell_type": "code",
   "id": "e3047db8",
   "metadata": {
    "ExecuteTime": {
     "end_time": "2025-06-10T15:08:18.278469Z",
     "start_time": "2025-06-10T15:08:18.261517Z"
    }
   },
   "source": [
    "# Reshape with -1\n",
    "arr = np.arange(12)\n",
    "reshaped = arr.reshape(3, 4)\n",
    "print(\"Original:\", arr)\n",
    "print(\"Reshaped:\\n\", reshaped)"
   ],
   "outputs": [
    {
     "name": "stdout",
     "output_type": "stream",
     "text": [
      "Original: [ 0  1  2  3  4  5  6  7  8  9 10 11]\n",
      "Reshaped:\n",
      " [[ 0  1  2  3]\n",
      " [ 4  5  6  7]\n",
      " [ 8  9 10 11]]\n"
     ]
    }
   ],
   "execution_count": 38
  }
 ],
 "metadata": {
  "kernelspec": {
   "name": "python3",
   "language": "python",
   "display_name": "Python 3 (ipykernel)"
  }
 },
 "nbformat": 4,
 "nbformat_minor": 5
}
