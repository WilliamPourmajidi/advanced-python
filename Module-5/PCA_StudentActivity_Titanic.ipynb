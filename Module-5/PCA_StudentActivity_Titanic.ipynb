{
 "cells": [
  {
   "cell_type": "markdown",
   "id": "fd17f6b0",
   "metadata": {},
   "source": [
    "# In-Class Activity: PCA with Titanic Dataset\n",
    "In this notebook, you'll perform Principal Component Analysis (PCA) to reduce dimensionality and visualize patterns from the Titanic dataset.\n",
    "\n",
    "**Instructions:** Follow the guidelines in each section. Leave your code in the designated code cells.\n",
    "\n",
    "We will follow the same process as covered in class:\n",
    "1. Load and clean the dataset\n",
    "2. Standardize the features\n",
    "3. Apply PCA\n",
    "4. Visualize and interpret results"
   ]
  },
  {
   "cell_type": "markdown",
   "id": "8e5c7f7c",
   "metadata": {},
   "source": [
    "## Step 1: Load the Titanic Dataset\n",
    "- Import pandas and load the Titanic dataset from Seaborn or any CSV file you may have.\n",
    "- Display the first few rows of the dataset."
   ]
  },
  {
   "cell_type": "code",
   "execution_count": null,
   "id": "340059bf",
   "metadata": {},
   "outputs": [],
   "source": [
    "# Your code here to load Titanic dataset"
   ]
  },
  {
   "cell_type": "markdown",
   "id": "e8071ee0",
   "metadata": {},
   "source": [
    "## Step 2: Inspect and Preprocess the Data\n",
    "- Drop irrelevant columns (like `name`, `ticket`, `cabin`, etc.)\n",
    "- Handle missing values appropriately\n",
    "- Encode categorical variables (e.g., `sex`, `embarked`) using one-hot encoding or label encoding"
   ]
  },
  {
   "cell_type": "code",
   "execution_count": null,
   "id": "4b27c524",
   "metadata": {},
   "outputs": [],
   "source": [
    "# Your code for preprocessing"
   ]
  },
  {
   "cell_type": "markdown",
   "id": "01890b94",
   "metadata": {},
   "source": [
    "## Step 3: Standardize the Features\n",
    "- Use `StandardScaler` to standardize the numeric features\n",
    "- Confirm the new means are close to 0 and std is close to 1 using `.describe()`"
   ]
  },
  {
   "cell_type": "code",
   "execution_count": null,
   "id": "41680bc5",
   "metadata": {},
   "outputs": [],
   "source": [
    "# Your code for standardization"
   ]
  },
  {
   "cell_type": "markdown",
   "id": "ecf5f205",
   "metadata": {},
   "source": [
    "## Step 4: Apply PCA\n",
    "- Apply PCA and reduce the features to **2 principal components**\n",
    "- Print the explained variance ratio\n",
    "- Transform the data into the PCA space"
   ]
  },
  {
   "cell_type": "code",
   "execution_count": null,
   "id": "4c31e55d",
   "metadata": {},
   "outputs": [],
   "source": [
    "# Your code for PCA"
   ]
  },
  {
   "cell_type": "markdown",
   "id": "8cda9a2a",
   "metadata": {},
   "source": [
    "## Step 5: Visualize the PCA Projection\n",
    "- Create a scatter plot of the 2 principal components\n",
    "- Color-code the points by survival status (`survived` column)\n",
    "- Label axes as `PC1` and `PC2` and add a legend"
   ]
  },
  {
   "cell_type": "code",
   "execution_count": null,
   "id": "804d18b6",
   "metadata": {},
   "outputs": [],
   "source": [
    "# Your code for visualization"
   ]
  },
  {
   "cell_type": "markdown",
   "id": "489b7bcc",
   "metadata": {},
   "source": [
    "## Step 6: Interpretation and Reflection\n",
    "In this cell, **write your observations**:\n",
    "- What patterns do you observe in the 2D PCA plot?\n",
    "- Are the survivors and non-survivors well separated?\n",
    "- What do the explained variance ratios suggest?\n",
    "- Any limitations of using PCA on this dataset?"
   ]
  },
  {
   "cell_type": "markdown",
   "id": "2b2505ea",
   "metadata": {},
   "source": [
    "_Type your answer here._"
   ]
  }
 ],
 "metadata": {},
 "nbformat": 4,
 "nbformat_minor": 5
}
