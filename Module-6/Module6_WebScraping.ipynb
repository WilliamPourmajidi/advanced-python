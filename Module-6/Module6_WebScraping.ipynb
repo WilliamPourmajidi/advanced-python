{
 "cells": [
  {
   "cell_type": "markdown",
   "id": "7edc3200",
   "metadata": {},
   "source": [
    "# Module 6: Web Scraping with Python and BeautifulSoup\n",
    "In this notebook, we explore how to extract textual data from web pages using Python libraries like `requests` and `BeautifulSoup`. We cover the process from sending a request to organizing the extracted data in a structured format using `pandas`."
   ]
  },
  {
   "cell_type": "markdown",
   "id": "63f44805",
   "metadata": {},
   "source": [
    "## 1. What is Web Scraping?\n",
    "**Web scraping** is the automated method of accessing and extracting data from websites. It is widely used in fields such as data analysis, NLP, and machine learning.\n",
    "\n",
    "**Why scrape?**\n",
    "- Collecting data for analysis (e.g., product reviews, stock prices)\n",
    "- Training AI models\n",
    "- Monitoring websites\n",
    "\n",
    "**Ethical Considerations:**\n",
    "- Always review the site’s `robots.txt`\n",
    "- Respect the terms of service\n",
    "- Avoid sending high volumes of requests"
   ]
  },
  {
   "cell_type": "code",
   "execution_count": 16,
   "id": "951a3a7e",
   "metadata": {},
   "outputs": [],
   "source": [
    "import requests\n",
    "from bs4 import BeautifulSoup\n",
    "import pandas as pd"
   ]
  },
  {
   "cell_type": "markdown",
   "id": "eed6f922",
   "metadata": {},
   "source": [
    "## 2. Fetch HTML Content from a Website\n",
    "We use the `requests` library to get the HTML content from a sample site: `http://quotes.toscrape.com/`."
   ]
  },
  {
   "cell_type": "code",
   "execution_count": 8,
   "id": "a48f5072",
   "metadata": {},
   "outputs": [
    {
     "name": "stdout",
     "output_type": "stream",
     "text": [
      "Status Code: 200\n"
     ]
    }
   ],
   "source": [
    "url = 'http://quotes.toscrape.com/'\n",
    "response = requests.get(url)\n",
    "print(\"Status Code:\", response.status_code)\n",
    "html = response.text\n",
    " "
   ]
  },
  {
   "cell_type": "markdown",
   "id": "ee97e221",
   "metadata": {},
   "source": [
    "## 3. Parse HTML Using BeautifulSoup\n",
    "The `BeautifulSoup` library helps us parse the HTML content and navigate its structure."
   ]
  },
  {
   "cell_type": "code",
   "execution_count": 10,
   "id": "eacacdca",
   "metadata": {},
   "outputs": [
    {
     "name": "stdout",
     "output_type": "stream",
     "text": [
      "Quotes to Scrape\n"
     ]
    }
   ],
   "source": [
    "soup = BeautifulSoup(html, 'html.parser')\n",
    "print(soup.title.text)  # Display the title of the web page"
   ]
  },
  {
   "cell_type": "markdown",
   "id": "e7d44b2d",
   "metadata": {},
   "source": [
    "## 4. Extract Quote Blocks\n",
    "We’ll extract quotes, authors, and associated tags from the page."
   ]
  },
  {
   "cell_type": "code",
   "execution_count": 11,
   "id": "651a4b55",
   "metadata": {},
   "outputs": [
    {
     "name": "stdout",
     "output_type": "stream",
     "text": [
      "Found 10 quotes on the page\n"
     ]
    }
   ],
   "source": [
    "quotes = soup.find_all('div', class_='quote')\n",
    "print(f\"Found {len(quotes)} quotes on the page\")"
   ]
  },
  {
   "cell_type": "markdown",
   "id": "beb93658",
   "metadata": {},
   "source": [
    "## 5. Extract and Structure the Data\n",
    "Each quote block contains a quote, author name, and list of tags. We'll extract them and store in a list."
   ]
  },
  {
   "cell_type": "code",
   "execution_count": 14,
   "id": "43e8cd1c",
   "metadata": {},
   "outputs": [],
   "source": [
    "data = []\n",
    "for q in quotes:\n",
    "    text = q.find('span', class_='text').text\n",
    "    author = q.find('small', class_='author').text\n",
    "    tags = [tag.text for tag in q.find_all('a', class_='tag')]\n",
    "    data.append({\n",
    "        'Quote': text,\n",
    "        'Author': author,\n",
    "        'Tags': \", \".join(tags)\n",
    "    })"
   ]
  },
  {
   "cell_type": "markdown",
   "id": "f3228dba",
   "metadata": {},
   "source": [
    "## 6. Convert Extracted Data to DataFrame\n",
    "We will use `pandas` to convert the extracted data into a table-like format for easy manipulation."
   ]
  },
  {
   "cell_type": "code",
   "execution_count": 15,
   "id": "034e721d",
   "metadata": {},
   "outputs": [
    {
     "data": {
      "text/html": [
       "<div>\n",
       "<style scoped>\n",
       "    .dataframe tbody tr th:only-of-type {\n",
       "        vertical-align: middle;\n",
       "    }\n",
       "\n",
       "    .dataframe tbody tr th {\n",
       "        vertical-align: top;\n",
       "    }\n",
       "\n",
       "    .dataframe thead th {\n",
       "        text-align: right;\n",
       "    }\n",
       "</style>\n",
       "<table border=\"1\" class=\"dataframe\">\n",
       "  <thead>\n",
       "    <tr style=\"text-align: right;\">\n",
       "      <th></th>\n",
       "      <th>Quote</th>\n",
       "      <th>Author</th>\n",
       "      <th>Tags</th>\n",
       "    </tr>\n",
       "  </thead>\n",
       "  <tbody>\n",
       "    <tr>\n",
       "      <th>0</th>\n",
       "      <td>“The world as we have created it is a process ...</td>\n",
       "      <td>Albert Einstein</td>\n",
       "      <td>change, deep-thoughts, thinking, world</td>\n",
       "    </tr>\n",
       "    <tr>\n",
       "      <th>1</th>\n",
       "      <td>“It is our choices, Harry, that show what we t...</td>\n",
       "      <td>J.K. Rowling</td>\n",
       "      <td>abilities, choices</td>\n",
       "    </tr>\n",
       "    <tr>\n",
       "      <th>2</th>\n",
       "      <td>“There are only two ways to live your life. On...</td>\n",
       "      <td>Albert Einstein</td>\n",
       "      <td>inspirational, life, live, miracle, miracles</td>\n",
       "    </tr>\n",
       "    <tr>\n",
       "      <th>3</th>\n",
       "      <td>“The person, be it gentleman or lady, who has ...</td>\n",
       "      <td>Jane Austen</td>\n",
       "      <td>aliteracy, books, classic, humor</td>\n",
       "    </tr>\n",
       "    <tr>\n",
       "      <th>4</th>\n",
       "      <td>“Imperfection is beauty, madness is genius and...</td>\n",
       "      <td>Marilyn Monroe</td>\n",
       "      <td>be-yourself, inspirational</td>\n",
       "    </tr>\n",
       "  </tbody>\n",
       "</table>\n",
       "</div>"
      ],
      "text/plain": [
       "                                               Quote           Author  \\\n",
       "0  “The world as we have created it is a process ...  Albert Einstein   \n",
       "1  “It is our choices, Harry, that show what we t...     J.K. Rowling   \n",
       "2  “There are only two ways to live your life. On...  Albert Einstein   \n",
       "3  “The person, be it gentleman or lady, who has ...      Jane Austen   \n",
       "4  “Imperfection is beauty, madness is genius and...   Marilyn Monroe   \n",
       "\n",
       "                                           Tags  \n",
       "0        change, deep-thoughts, thinking, world  \n",
       "1                            abilities, choices  \n",
       "2  inspirational, life, live, miracle, miracles  \n",
       "3              aliteracy, books, classic, humor  \n",
       "4                    be-yourself, inspirational  "
      ]
     },
     "execution_count": 15,
     "metadata": {},
     "output_type": "execute_result"
    }
   ],
   "source": [
    "df = pd.DataFrame(data)\n",
    "df.head()"
   ]
  },
  {
   "cell_type": "markdown",
   "id": "dee3c9a1",
   "metadata": {},
   "source": [
    "## 7. Summary\n",
    "- We used `requests` to fetch HTML data.\n",
    "- Parsed it with `BeautifulSoup`.\n",
    "- Extracted relevant data like quotes, authors, and tags.\n",
    "- Stored the data in a structured format using `pandas`.\n",
    "\n",
    "**Try it yourself:**\n",
    "Explore scraping other structured content like tables or try a different page on the same site!"
   ]
  }
 ],
 "metadata": {
  "kernelspec": {
   "display_name": ".venv",
   "language": "python",
   "name": "python3"
  },
  "language_info": {
   "codemirror_mode": {
    "name": "ipython",
    "version": 3
   },
   "file_extension": ".py",
   "mimetype": "text/x-python",
   "name": "python",
   "nbconvert_exporter": "python",
   "pygments_lexer": "ipython3",
   "version": "3.13.5"
  }
 },
 "nbformat": 4,
 "nbformat_minor": 5
}
