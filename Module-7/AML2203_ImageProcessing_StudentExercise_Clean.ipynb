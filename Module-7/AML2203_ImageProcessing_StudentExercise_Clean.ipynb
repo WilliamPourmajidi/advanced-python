{
 "cells": [
  {
   "cell_type": "markdown",
   "id": "2cd52c81",
   "metadata": {},
   "source": [
    "# Image Processing Practice: Grayscale and Histogram\n",
    "In this notebook, you will practice working with grayscale image data and pixel intensity histograms using Python. You are expected to complete each code cell by following the instructions provided."
   ]
  },
  {
   "cell_type": "markdown",
   "id": "8f808dca",
   "metadata": {},
   "source": [
    "## Step 1: Load an Image\n",
    "Use PIL (Python Imaging Library) to load an image from your local directory."
   ]
  },
  {
   "cell_type": "code",
   "execution_count": null,
   "id": "8597b021",
   "metadata": {},
   "outputs": [],
   "source": [
    "from PIL import Image\n",
    "import matplotlib.pyplot as plt\n",
    "\n",
    "# TODO: Replace 'your_image.jpg' with the actual file path or name of your image\n",
    "image_path = 'your_image.jpg'\n",
    "image = Image.open(image_path)\n",
    "\n",
    "# Display the original image\n",
    "plt.imshow(image)\n",
    "plt.axis('off')\n",
    "plt.title('Original Image')\n",
    "plt.show()"
   ]
  },
  {
   "cell_type": "markdown",
   "id": "06aee895",
   "metadata": {},
   "source": [
    "## Step 2: Convert Image to Grayscale\n",
    "Convert the image to grayscale for analysis."
   ]
  },
  {
   "cell_type": "code",
   "execution_count": null,
   "id": "61ba94cd",
   "metadata": {},
   "outputs": [],
   "source": [
    "# Convert to grayscale\n",
    "gray_image = image.convert('L')\n",
    "\n",
    "# Display the grayscale image\n",
    "plt.imshow(gray_image, cmap='gray')\n",
    "plt.axis('off')\n",
    "plt.title('Grayscale Image')\n",
    "plt.show()"
   ]
  },
  {
   "cell_type": "markdown",
   "id": "553104bb",
   "metadata": {},
   "source": [
    "## Step 3: Plot Histogram of Grayscale Pixel Intensities\n",
    "Create a histogram to visualize the distribution of pixel intensity values."
   ]
  },
  {
   "cell_type": "code",
   "execution_count": null,
   "id": "9efa4618",
   "metadata": {},
   "outputs": [],
   "source": [
    "import numpy as np\n",
    "\n",
    "# Convert grayscale image to array and flatten to 1D\n",
    "gray_array = np.array(gray_image).flatten()\n",
    "\n",
    "# Plot histogram\n",
    "plt.hist(gray_array, bins=256, range=(0, 255), color='gray')\n",
    "plt.title('Pixel Intensity Histogram')\n",
    "plt.xlabel('Intensity Value')\n",
    "plt.ylabel('Frequency')\n",
    "plt.grid(True)\n",
    "plt.show()"
   ]
  },
  {
   "cell_type": "markdown",
   "id": "c2760a3e",
   "metadata": {},
   "source": [
    "## Step 4: Interpretation (Markdown)\n",
    "**Interpret the histogram:**\n",
    "- What does the histogram tell you about the brightness and contrast of the image?\n",
    "- Are there more dark or light pixels?\n",
    "- What might this tell you about the contents of the image?\n",
    "\n",
    "_Write your answers below in this Markdown cell._"
   ]
  }
 ],
 "metadata": {},
 "nbformat": 4,
 "nbformat_minor": 5
}
