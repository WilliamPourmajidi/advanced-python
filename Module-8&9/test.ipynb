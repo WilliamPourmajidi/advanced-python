{
 "cells": [
  {
   "cell_type": "code",
   "execution_count": 10,
   "id": "4fc9306c",
   "metadata": {},
   "outputs": [
    {
     "name": "stdout",
     "output_type": "stream",
     "text": [
      "Adding 0, total now 0\n",
      "Adding 2, total now 2\n",
      "Adding 4, total now 6\n",
      "6\n"
     ]
    }
   ],
   "source": [
    "def compute(val):  \n",
    "    total = 0  \n",
    "    for i in range(val):  \n",
    "        if i % 2 == 0:  \n",
    "            total += i  \n",
    "            print(f\"Adding {i}, total now {total}\")\n",
    "    return total  \n",
    "  \n",
    "print(compute(5))\n"
   ]
  }
 ],
 "metadata": {
  "kernelspec": {
   "display_name": ".venv",
   "language": "python",
   "name": "python3"
  },
  "language_info": {
   "codemirror_mode": {
    "name": "ipython",
    "version": 3
   },
   "file_extension": ".py",
   "mimetype": "text/x-python",
   "name": "python",
   "nbconvert_exporter": "python",
   "pygments_lexer": "ipython3",
   "version": "3.13.5"
  }
 },
 "nbformat": 4,
 "nbformat_minor": 5
}
